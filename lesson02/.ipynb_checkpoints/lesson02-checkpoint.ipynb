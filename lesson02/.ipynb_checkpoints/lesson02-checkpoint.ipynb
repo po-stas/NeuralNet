{
 "cells": [
  {
   "cell_type": "markdown",
   "metadata": {},
   "source": [
    "Урок 2. Keras"
   ]
  },
  {
   "cell_type": "code",
   "execution_count": 47,
   "metadata": {},
   "outputs": [],
   "source": [
    "import numpy as np\n",
    "import pandas as pd\n",
    "import tensorflow as tf\n",
    "from tensorflow.keras.models import Sequential\n",
    "from tensorflow.keras.layers import Dense\n",
    "from tensorflow.keras.utils import plot_model\n",
    "from tensorflow.keras.utils import to_categorical\n",
    "import matplotlib.pyplot as plt"
   ]
  },
  {
   "cell_type": "code",
   "execution_count": 2,
   "metadata": {},
   "outputs": [],
   "source": [
    "(x_train, y_train), (x_test, y_test) = tf.keras.datasets.fashion_mnist.load_data()"
   ]
  },
  {
   "cell_type": "code",
   "execution_count": 3,
   "metadata": {},
   "outputs": [],
   "source": [
    "x_train = x_train/256\n",
    "x_test = x_test/256"
   ]
  },
  {
   "cell_type": "code",
   "execution_count": 4,
   "metadata": {},
   "outputs": [],
   "source": [
    "x_train = x_train.reshape((-1, 28*28))\n",
    "x_test = x_test.reshape((-1, 28*28))"
   ]
  },
  {
   "cell_type": "code",
   "execution_count": 5,
   "metadata": {},
   "outputs": [],
   "source": [
    "model = Sequential()\n",
    "model.add(Dense(units=64, activation='relu', input_shape=(28*28, )))\n",
    "model.add(Dense(units=10, activation='softmax'))\n",
    "model.compile(loss='categorical_crossentropy',\n",
    "              optimizer='sgd',\n",
    "              metrics=['accuracy'])"
   ]
  },
  {
   "cell_type": "code",
   "execution_count": 6,
   "metadata": {},
   "outputs": [
    {
     "name": "stdout",
     "output_type": "stream",
     "text": [
      "Model: \"sequential\"\n",
      "_________________________________________________________________\n",
      "Layer (type)                 Output Shape              Param #   \n",
      "=================================================================\n",
      "dense (Dense)                (None, 64)                50240     \n",
      "_________________________________________________________________\n",
      "dense_1 (Dense)              (None, 10)                650       \n",
      "=================================================================\n",
      "Total params: 50,890\n",
      "Trainable params: 50,890\n",
      "Non-trainable params: 0\n",
      "_________________________________________________________________\n"
     ]
    }
   ],
   "source": [
    "model.summary()"
   ]
  },
  {
   "cell_type": "code",
   "execution_count": 7,
   "metadata": {},
   "outputs": [
    {
     "name": "stdout",
     "output_type": "stream",
     "text": [
      "('Failed to import pydot. You must `pip install pydot` and install graphviz (https://graphviz.gitlab.io/download/), ', 'for `pydotprint` to work.')\n"
     ]
    }
   ],
   "source": [
    "plot_model(model, to_file='model.png')"
   ]
  },
  {
   "cell_type": "code",
   "execution_count": 12,
   "metadata": {},
   "outputs": [
    {
     "name": "stdout",
     "output_type": "stream",
     "text": [
      "Epoch 1/5\n",
      "1500/1500 [==============================] - 4s 3ms/step - loss: 0.8153 - accuracy: 0.7432 - val_loss: 0.5838 - val_accuracy: 0.8054\n",
      "Epoch 2/5\n",
      "1500/1500 [==============================] - 4s 2ms/step - loss: 0.5448 - accuracy: 0.8156 - val_loss: 0.5091 - val_accuracy: 0.8270\n",
      "Epoch 3/5\n",
      "1500/1500 [==============================] - 4s 3ms/step - loss: 0.4919 - accuracy: 0.8318 - val_loss: 0.4964 - val_accuracy: 0.8183\n",
      "Epoch 4/5\n",
      "1500/1500 [==============================] - 4s 2ms/step - loss: 0.4641 - accuracy: 0.8404 - val_loss: 0.4625 - val_accuracy: 0.8392\n",
      "Epoch 5/5\n",
      "1500/1500 [==============================] - 4s 2ms/step - loss: 0.4443 - accuracy: 0.8468 - val_loss: 0.4494 - val_accuracy: 0.8412\n"
     ]
    },
    {
     "data": {
      "text/plain": [
       "<tensorflow.python.keras.callbacks.History at 0x7fa6a0fd92e0>"
      ]
     },
     "execution_count": 12,
     "metadata": {},
     "output_type": "execute_result"
    }
   ],
   "source": [
    "model.fit(x_train, to_categorical(y_train), epochs=5, batch_size=32, validation_split=0.2)"
   ]
  },
  {
   "cell_type": "code",
   "execution_count": 56,
   "metadata": {},
   "outputs": [
    {
     "name": "stdout",
     "output_type": "stream",
     "text": [
      "313/313 [==============================] - 0s 781us/step - loss: 0.4744 - accuracy: 0.8334\n"
     ]
    },
    {
     "data": {
      "text/plain": [
       "[0.4744250476360321, 0.8334000110626221]"
      ]
     },
     "execution_count": 56,
     "metadata": {},
     "output_type": "execute_result"
    }
   ],
   "source": [
    "result1 = model.evaluate(x_test, to_categorical(y_test))\n",
    "result1"
   ]
  },
  {
   "cell_type": "code",
   "execution_count": 16,
   "metadata": {},
   "outputs": [],
   "source": [
    "preds = model.predict(x_test)"
   ]
  },
  {
   "cell_type": "code",
   "execution_count": 55,
   "metadata": {},
   "outputs": [
    {
     "name": "stdout",
     "output_type": "stream",
     "text": [
      "9\n"
     ]
    }
   ],
   "source": [
    "# Для первой картинки из теста класс = 9\n",
    "print(np.argmax(preds, axis=1)[0])"
   ]
  },
  {
   "cell_type": "code",
   "execution_count": 42,
   "metadata": {},
   "outputs": [
    {
     "data": {
      "text/plain": [
       "array([0.        , 0.        , 0.        , 0.        , 0.        ,\n",
       "       0.        , 0.        , 0.        , 0.        , 0.        ,\n",
       "       0.        , 0.        , 0.        , 0.        , 0.        ,\n",
       "       0.        , 0.        , 0.        , 0.        , 0.        ,\n",
       "       0.        , 0.        , 0.        , 0.        , 0.        ,\n",
       "       0.        , 0.        , 0.        , 0.        , 0.        ,\n",
       "       0.        , 0.        , 0.        , 0.        , 0.        ,\n",
       "       0.        , 0.        , 0.        , 0.        , 0.        ,\n",
       "       0.        , 0.        , 0.        , 0.        , 0.        ,\n",
       "       0.        , 0.        , 0.        , 0.        , 0.        ,\n",
       "       0.        , 0.        , 0.        , 0.        , 0.        ,\n",
       "       0.        , 0.        , 0.        , 0.        , 0.        ,\n",
       "       0.        , 0.        , 0.        , 0.        , 0.        ,\n",
       "       0.        , 0.        , 0.        , 0.        , 0.        ,\n",
       "       0.        , 0.        , 0.        , 0.        , 0.        ,\n",
       "       0.        , 0.        , 0.        , 0.        , 0.        ,\n",
       "       0.        , 0.        , 0.        , 0.        , 0.        ,\n",
       "       0.        , 0.        , 0.        , 0.        , 0.        ,\n",
       "       0.        , 0.        , 0.        , 0.        , 0.        ,\n",
       "       0.        , 0.        , 0.        , 0.        , 0.        ,\n",
       "       0.        , 0.        , 0.        , 0.        , 0.        ,\n",
       "       0.        , 0.        , 0.        , 0.        , 0.        ,\n",
       "       0.        , 0.        , 0.        , 0.        , 0.        ,\n",
       "       0.        , 0.        , 0.        , 0.        , 0.        ,\n",
       "       0.        , 0.        , 0.        , 0.        , 0.        ,\n",
       "       0.        , 0.        , 0.        , 0.        , 0.        ,\n",
       "       0.        , 0.        , 0.        , 0.        , 0.        ,\n",
       "       0.        , 0.        , 0.        , 0.        , 0.        ,\n",
       "       0.        , 0.        , 0.        , 0.        , 0.        ,\n",
       "       0.        , 0.        , 0.        , 0.        , 0.        ,\n",
       "       0.        , 0.        , 0.        , 0.        , 0.        ,\n",
       "       0.        , 0.        , 0.        , 0.        , 0.        ,\n",
       "       0.        , 0.        , 0.        , 0.        , 0.        ,\n",
       "       0.        , 0.        , 0.        , 0.        , 0.        ,\n",
       "       0.        , 0.        , 0.        , 0.        , 0.        ,\n",
       "       0.        , 0.        , 0.        , 0.        , 0.        ,\n",
       "       0.        , 0.        , 0.        , 0.        , 0.        ,\n",
       "       0.        , 0.        , 0.        , 0.        , 0.        ,\n",
       "       0.        , 0.        , 0.        , 0.        , 0.        ,\n",
       "       0.        , 0.        , 0.        , 0.        , 0.        ,\n",
       "       0.        , 0.        , 0.        , 0.        , 0.        ,\n",
       "       0.        , 0.        , 0.        , 0.        , 0.        ,\n",
       "       0.        , 0.        , 0.        , 0.        , 0.        ,\n",
       "       0.01171875, 0.00390625, 0.        , 0.        , 0.02734375,\n",
       "       0.        , 0.14453125, 0.        , 0.        , 0.        ,\n",
       "       0.        , 0.        , 0.        , 0.        , 0.        ,\n",
       "       0.        , 0.        , 0.        , 0.        , 0.        ,\n",
       "       0.        , 0.        , 0.00390625, 0.0078125 , 0.        ,\n",
       "       0.10546875, 0.328125  , 0.04296875, 0.        , 0.        ,\n",
       "       0.        , 0.        , 0.        , 0.        , 0.46484375,\n",
       "       0.        , 0.        , 0.        , 0.        , 0.        ,\n",
       "       0.        , 0.        , 0.        , 0.        , 0.        ,\n",
       "       0.        , 0.        , 0.        , 0.        , 0.        ,\n",
       "       0.00390625, 0.        , 0.        , 0.34375   , 0.55859375,\n",
       "       0.4296875 , 0.        , 0.        , 0.        , 0.        ,\n",
       "       0.0859375 , 0.36328125, 0.4140625 , 0.        , 0.        ,\n",
       "       0.        , 0.        , 0.        , 0.        , 0.        ,\n",
       "       0.        , 0.        , 0.        , 0.        , 0.        ,\n",
       "       0.        , 0.        , 0.        , 0.015625  , 0.        ,\n",
       "       0.20703125, 0.50390625, 0.46875   , 0.57421875, 0.68359375,\n",
       "       0.61328125, 0.6484375 , 0.52734375, 0.6015625 , 0.65625   ,\n",
       "       0.546875  , 0.        , 0.        , 0.        , 0.        ,\n",
       "       0.        , 0.        , 0.        , 0.        , 0.        ,\n",
       "       0.        , 0.        , 0.        , 0.        , 0.        ,\n",
       "       0.0078125 , 0.        , 0.04296875, 0.53515625, 0.5078125 ,\n",
       "       0.5       , 0.625     , 0.6875    , 0.62109375, 0.65234375,\n",
       "       0.6953125 , 0.58203125, 0.58984375, 0.5625    , 0.        ,\n",
       "       0.        , 0.        , 0.        , 0.        , 0.        ,\n",
       "       0.        , 0.        , 0.00390625, 0.        , 0.0078125 ,\n",
       "       0.00390625, 0.        , 0.01171875, 0.        , 0.        ,\n",
       "       0.44921875, 0.4453125 , 0.4140625 , 0.53515625, 0.65625   ,\n",
       "       0.59765625, 0.609375  , 0.64453125, 0.65234375, 0.55859375,\n",
       "       0.61328125, 0.6171875 , 0.04296875, 0.        , 0.        ,\n",
       "       0.        , 0.        , 0.        , 0.00390625, 0.        ,\n",
       "       0.        , 0.        , 0.        , 0.        , 0.01171875,\n",
       "       0.        , 0.        , 0.34765625, 0.54296875, 0.3515625 ,\n",
       "       0.3671875 , 0.59765625, 0.58203125, 0.51171875, 0.58984375,\n",
       "       0.66015625, 0.671875  , 0.55859375, 0.62109375, 0.66015625,\n",
       "       0.1875    , 0.        , 0.        , 0.        , 0.        ,\n",
       "       0.        , 0.        , 0.        , 0.0078125 , 0.015625  ,\n",
       "       0.00390625, 0.        , 0.        , 0.        , 0.3828125 ,\n",
       "       0.53125   , 0.4296875 , 0.42578125, 0.4296875 , 0.6328125 ,\n",
       "       0.52734375, 0.5625    , 0.58203125, 0.62109375, 0.65234375,\n",
       "       0.5625    , 0.6171875 , 0.66015625, 0.46484375, 0.        ,\n",
       "       0.        , 0.        , 0.0078125 , 0.0078125 , 0.00390625,\n",
       "       0.0078125 , 0.        , 0.        , 0.        , 0.        ,\n",
       "       0.1015625 , 0.421875  , 0.45703125, 0.38671875, 0.43359375,\n",
       "       0.45703125, 0.53125   , 0.609375  , 0.5234375 , 0.6015625 ,\n",
       "       0.6015625 , 0.609375  , 0.625     , 0.55078125, 0.57421875,\n",
       "       0.609375  , 0.6953125 , 0.        , 0.01171875, 0.        ,\n",
       "       0.        , 0.        , 0.        , 0.        , 0.        ,\n",
       "       0.08203125, 0.20703125, 0.359375  , 0.45703125, 0.43359375,\n",
       "       0.40234375, 0.44921875, 0.50390625, 0.5234375 , 0.55859375,\n",
       "       0.6015625 , 0.64453125, 0.6640625 , 0.6015625 , 0.58984375,\n",
       "       0.6015625 , 0.55859375, 0.5390625 , 0.5859375 , 0.64453125,\n",
       "       0.16796875, 0.        , 0.        , 0.08984375, 0.2109375 ,\n",
       "       0.25390625, 0.296875  , 0.33203125, 0.4609375 , 0.5       ,\n",
       "       0.48046875, 0.43359375, 0.44140625, 0.4609375 , 0.49609375,\n",
       "       0.48828125, 0.54296875, 0.51953125, 0.53125   , 0.625     ,\n",
       "       0.546875  , 0.60546875, 0.62890625, 0.5625    , 0.60546875,\n",
       "       0.671875  , 0.62890625, 0.73828125, 0.2421875 , 0.        ,\n",
       "       0.265625  , 0.3671875 , 0.3515625 , 0.43359375, 0.4453125 ,\n",
       "       0.43359375, 0.4453125 , 0.44921875, 0.49609375, 0.52734375,\n",
       "       0.53125   , 0.55859375, 0.4921875 , 0.49609375, 0.58984375,\n",
       "       0.6015625 , 0.55859375, 0.578125  , 0.48828125, 0.6328125 ,\n",
       "       0.6328125 , 0.5625    , 0.5390625 , 0.59765625, 0.6328125 ,\n",
       "       0.765625  , 0.2265625 , 0.2734375 , 0.66015625, 0.50390625,\n",
       "       0.40625   , 0.3828125 , 0.390625  , 0.3671875 , 0.37890625,\n",
       "       0.3828125 , 0.3984375 , 0.421875  , 0.4140625 , 0.46484375,\n",
       "       0.46875   , 0.50390625, 0.58203125, 0.609375  , 0.65234375,\n",
       "       0.7421875 , 0.7421875 , 0.765625  , 0.7734375 , 0.7734375 ,\n",
       "       0.73046875, 0.76953125, 0.73828125, 0.71875   , 0.140625  ,\n",
       "       0.0625    , 0.4921875 , 0.66796875, 0.734375  , 0.734375  ,\n",
       "       0.71875   , 0.66796875, 0.59765625, 0.52734375, 0.46875   ,\n",
       "       0.4921875 , 0.49609375, 0.5703125 , 0.72265625, 0.76171875,\n",
       "       0.81640625, 0.8125    , 0.99609375, 0.81640625, 0.69140625,\n",
       "       0.95703125, 0.984375  , 0.98046875, 0.98046875, 0.96484375,\n",
       "       0.859375  , 0.8046875 , 0.19140625, 0.        , 0.        ,\n",
       "       0.        , 0.046875  , 0.26171875, 0.4140625 , 0.640625  ,\n",
       "       0.72265625, 0.77734375, 0.8203125 , 0.82421875, 0.8203125 ,\n",
       "       0.8125    , 0.7421875 , 0.5859375 , 0.3203125 , 0.03125   ,\n",
       "       0.        , 0.        , 0.        , 0.6953125 , 0.8125    ,\n",
       "       0.734375  , 0.68359375, 0.6328125 , 0.6171875 , 0.58984375,\n",
       "       0.04296875, 0.        , 0.        , 0.        , 0.        ,\n",
       "       0.        , 0.        , 0.        , 0.        , 0.        ,\n",
       "       0.        , 0.        , 0.        , 0.        , 0.        ,\n",
       "       0.        , 0.        , 0.        , 0.        , 0.        ,\n",
       "       0.        , 0.        , 0.        , 0.        , 0.        ,\n",
       "       0.        , 0.        , 0.        , 0.        , 0.        ,\n",
       "       0.        , 0.        , 0.        , 0.        , 0.        ,\n",
       "       0.        , 0.        , 0.        , 0.        , 0.        ,\n",
       "       0.        , 0.        , 0.        , 0.        , 0.        ,\n",
       "       0.        , 0.        , 0.        , 0.        , 0.        ,\n",
       "       0.        , 0.        , 0.        , 0.        , 0.        ,\n",
       "       0.        , 0.        , 0.        , 0.        , 0.        ,\n",
       "       0.        , 0.        , 0.        , 0.        , 0.        ,\n",
       "       0.        , 0.        , 0.        , 0.        , 0.        ,\n",
       "       0.        , 0.        , 0.        , 0.        , 0.        ,\n",
       "       0.        , 0.        , 0.        , 0.        , 0.        ,\n",
       "       0.        , 0.        , 0.        , 0.        , 0.        ,\n",
       "       0.        , 0.        , 0.        , 0.        , 0.        ,\n",
       "       0.        , 0.        , 0.        , 0.        , 0.        ,\n",
       "       0.        , 0.        , 0.        , 0.        , 0.        ,\n",
       "       0.        , 0.        , 0.        , 0.        , 0.        ,\n",
       "       0.        , 0.        , 0.        , 0.        , 0.        ,\n",
       "       0.        , 0.        , 0.        , 0.        , 0.        ,\n",
       "       0.        , 0.        , 0.        , 0.        , 0.        ,\n",
       "       0.        , 0.        , 0.        , 0.        , 0.        ,\n",
       "       0.        , 0.        , 0.        , 0.        , 0.        ,\n",
       "       0.        , 0.        , 0.        , 0.        , 0.        ,\n",
       "       0.        , 0.        , 0.        , 0.        , 0.        ,\n",
       "       0.        , 0.        , 0.        , 0.        , 0.        ,\n",
       "       0.        , 0.        , 0.        , 0.        , 0.        ,\n",
       "       0.        , 0.        , 0.        , 0.        , 0.        ,\n",
       "       0.        , 0.        , 0.        , 0.        , 0.        ,\n",
       "       0.        , 0.        , 0.        , 0.        , 0.        ,\n",
       "       0.        , 0.        , 0.        , 0.        ])"
      ]
     },
     "execution_count": 42,
     "metadata": {},
     "output_type": "execute_result"
    }
   ],
   "source": [
    "image = x_test[0]\n",
    "image"
   ]
  },
  {
   "cell_type": "code",
   "execution_count": 46,
   "metadata": {},
   "outputs": [
    {
     "data": {
      "text/plain": [
       "<matplotlib.image.AxesImage at 0x7fa6a46d0f40>"
      ]
     },
     "execution_count": 46,
     "metadata": {},
     "output_type": "execute_result"
    },
    {
     "data": {
      "image/png": "[encoded data removed]",
      "text/plain": [
       "<Figure size 432x288 with 1 Axes>"
      ]
     },
     "metadata": {
      "needs_background": "light"
     },
     "output_type": "display_data"
    }
   ],
   "source": [
    "image = np.reshape(image, (28, 28))\n",
    "plt.imshow(image, cmap='gray')"
   ]
  },
  {
   "cell_type": "code",
   "execution_count": 48,
   "metadata": {},
   "outputs": [],
   "source": [
    "f_mnist = pd.DataFrame(('T-shirt/top',\n",
    "    'Trouser',\n",
    "    'Pullover',\n",
    "    'Dress',\n",
    "    'Coat',\n",
    "    'Sandal',\n",
    "    'Shirt',\n",
    "    'Sneaker',\n",
    "    'Bag',\n",
    "    'Ankle boot'))"
   ]
  },
  {
   "cell_type": "code",
   "execution_count": 51,
   "metadata": {},
   "outputs": [
    {
     "data": {
      "text/html": [
       "<div>\n",
       "<style scoped>\n",
       "    .dataframe tbody tr th:only-of-type {\n",
       "        vertical-align: middle;\n",
       "    }\n",
       "\n",
       "    .dataframe tbody tr th {\n",
       "        vertical-align: top;\n",
       "    }\n",
       "\n",
       "    .dataframe thead th {\n",
       "        text-align: right;\n",
       "    }\n",
       "</style>\n",
       "<table border=\"1\" class=\"dataframe\">\n",
       "  <thead>\n",
       "    <tr style=\"text-align: right;\">\n",
       "      <th></th>\n",
       "      <th>Description</th>\n",
       "    </tr>\n",
       "  </thead>\n",
       "  <tbody>\n",
       "    <tr>\n",
       "      <th>0</th>\n",
       "      <td>T-shirt/top</td>\n",
       "    </tr>\n",
       "    <tr>\n",
       "      <th>1</th>\n",
       "      <td>Trouser</td>\n",
       "    </tr>\n",
       "    <tr>\n",
       "      <th>2</th>\n",
       "      <td>Pullover</td>\n",
       "    </tr>\n",
       "    <tr>\n",
       "      <th>3</th>\n",
       "      <td>Dress</td>\n",
       "    </tr>\n",
       "    <tr>\n",
       "      <th>4</th>\n",
       "      <td>Coat</td>\n",
       "    </tr>\n",
       "    <tr>\n",
       "      <th>5</th>\n",
       "      <td>Sandal</td>\n",
       "    </tr>\n",
       "    <tr>\n",
       "      <th>6</th>\n",
       "      <td>Shirt</td>\n",
       "    </tr>\n",
       "    <tr>\n",
       "      <th>7</th>\n",
       "      <td>Sneaker</td>\n",
       "    </tr>\n",
       "    <tr>\n",
       "      <th>8</th>\n",
       "      <td>Bag</td>\n",
       "    </tr>\n",
       "    <tr>\n",
       "      <th>9</th>\n",
       "      <td>Ankle boot</td>\n",
       "    </tr>\n",
       "  </tbody>\n",
       "</table>\n",
       "</div>"
      ],
      "text/plain": [
       "   Description\n",
       "0  T-shirt/top\n",
       "1      Trouser\n",
       "2     Pullover\n",
       "3        Dress\n",
       "4         Coat\n",
       "5       Sandal\n",
       "6        Shirt\n",
       "7      Sneaker\n",
       "8          Bag\n",
       "9   Ankle boot"
      ]
     },
     "execution_count": 51,
     "metadata": {},
     "output_type": "execute_result"
    }
   ],
   "source": [
    "f_mnist.columns = ('Description',)\n",
    "f_mnist"
   ]
  },
  {
   "cell_type": "code",
   "execution_count": 52,
   "metadata": {},
   "outputs": [],
   "source": [
    "# 9 = Ankle boot - угадало"
   ]
  },
  {
   "cell_type": "code",
   "execution_count": 69,
   "metadata": {},
   "outputs": [
    {
     "name": "stdout",
     "output_type": "stream",
     "text": [
      "Epoch 1/5\n",
      "1500/1500 [==============================] - 2s 1ms/step - loss: 0.8529 - accuracy: 0.7168 - val_loss: 0.6067 - val_accuracy: 0.7900\n",
      "Epoch 2/5\n",
      "1500/1500 [==============================] - 1s 963us/step - loss: 0.5562 - accuracy: 0.8127 - val_loss: 0.5230 - val_accuracy: 0.8205\n",
      "Epoch 3/5\n",
      "1500/1500 [==============================] - 1s 891us/step - loss: 0.5004 - accuracy: 0.8281 - val_loss: 0.4857 - val_accuracy: 0.8314\n",
      "Epoch 4/5\n",
      "1500/1500 [==============================] - 1s 877us/step - loss: 0.4711 - accuracy: 0.8372 - val_loss: 0.4672 - val_accuracy: 0.8395\n",
      "Epoch 5/5\n",
      "1500/1500 [==============================] - 1s 857us/step - loss: 0.4505 - accuracy: 0.8441 - val_loss: 0.4486 - val_accuracy: 0.8418\n",
      "313/313 [==============================] - 0s 867us/step - loss: 0.4739 - accuracy: 0.8329\n",
      "Epoch 1/5\n",
      "1500/1500 [==============================] - 2s 1ms/step - loss: 0.8220 - accuracy: 0.7346 - val_loss: 0.5990 - val_accuracy: 0.7925\n",
      "Epoch 2/5\n",
      "1500/1500 [==============================] - 2s 1ms/step - loss: 0.5494 - accuracy: 0.8151 - val_loss: 0.5194 - val_accuracy: 0.8217\n",
      "Epoch 3/5\n",
      "1500/1500 [==============================] - 2s 1ms/step - loss: 0.4976 - accuracy: 0.8293 - val_loss: 0.4897 - val_accuracy: 0.8303\n",
      "Epoch 4/5\n",
      "1500/1500 [==============================] - 2s 1ms/step - loss: 0.4699 - accuracy: 0.8378 - val_loss: 0.4729 - val_accuracy: 0.8343\n",
      "Epoch 5/5\n",
      "1500/1500 [==============================] - 2s 1ms/step - loss: 0.4507 - accuracy: 0.8436 - val_loss: 0.4688 - val_accuracy: 0.8351\n",
      "313/313 [==============================] - 0s 996us/step - loss: 0.4915 - accuracy: 0.8260\n",
      "Epoch 1/5\n",
      "1500/1500 [==============================] - 2s 1ms/step - loss: 0.7979 - accuracy: 0.7440 - val_loss: 0.5768 - val_accuracy: 0.8059\n",
      "Epoch 2/5\n",
      "1500/1500 [==============================] - 2s 1ms/step - loss: 0.5346 - accuracy: 0.8197 - val_loss: 0.5009 - val_accuracy: 0.8257\n",
      "Epoch 3/5\n",
      "1500/1500 [==============================] - 2s 1ms/step - loss: 0.4854 - accuracy: 0.8345 - val_loss: 0.4708 - val_accuracy: 0.8326\n",
      "Epoch 4/5\n",
      "1500/1500 [==============================] - 2s 1ms/step - loss: 0.4572 - accuracy: 0.8425 - val_loss: 0.4525 - val_accuracy: 0.8398\n",
      "Epoch 5/5\n",
      "1500/1500 [==============================] - 2s 2ms/step - loss: 0.4381 - accuracy: 0.8480 - val_loss: 0.4436 - val_accuracy: 0.8462\n",
      "313/313 [==============================] - 0s 1ms/step - loss: 0.4679 - accuracy: 0.8375\n",
      "Epoch 1/5\n",
      "1500/1500 [==============================] - 2s 2ms/step - loss: 0.7762 - accuracy: 0.7504 - val_loss: 0.5640 - val_accuracy: 0.8086\n",
      "Epoch 2/5\n",
      "1500/1500 [==============================] - 2s 1ms/step - loss: 0.5284 - accuracy: 0.8207 - val_loss: 0.5007 - val_accuracy: 0.8288\n",
      "Epoch 3/5\n",
      "1500/1500 [==============================] - 2s 1ms/step - loss: 0.4819 - accuracy: 0.8355 - val_loss: 0.4839 - val_accuracy: 0.8282\n",
      "Epoch 4/5\n",
      "1500/1500 [==============================] - 2s 2ms/step - loss: 0.4556 - accuracy: 0.8428 - val_loss: 0.4535 - val_accuracy: 0.8391\n",
      "Epoch 5/5\n",
      "1500/1500 [==============================] - 2s 2ms/step - loss: 0.4366 - accuracy: 0.8499 - val_loss: 0.4340 - val_accuracy: 0.8490\n",
      "313/313 [==============================] - 0s 1ms/step - loss: 0.4575 - accuracy: 0.8395\n",
      "Epoch 1/5\n",
      "1500/1500 [==============================] - 3s 2ms/step - loss: 0.7426 - accuracy: 0.7669 - val_loss: 0.5510 - val_accuracy: 0.8180\n",
      "Epoch 2/5\n",
      "1500/1500 [==============================] - 4s 2ms/step - loss: 0.5170 - accuracy: 0.8269 - val_loss: 0.4845 - val_accuracy: 0.8340\n",
      "Epoch 3/5\n",
      "1500/1500 [==============================] - 3s 2ms/step - loss: 0.4711 - accuracy: 0.8404 - val_loss: 0.4553 - val_accuracy: 0.8436\n",
      "Epoch 4/5\n",
      "1500/1500 [==============================] - 3s 2ms/step - loss: 0.4446 - accuracy: 0.8482 - val_loss: 0.4431 - val_accuracy: 0.8458\n",
      "Epoch 5/5\n",
      "1500/1500 [==============================] - 3s 2ms/step - loss: 0.4265 - accuracy: 0.8539 - val_loss: 0.4218 - val_accuracy: 0.8545\n",
      "313/313 [==============================] - 1s 4ms/step - loss: 0.4477 - accuracy: 0.8427\n",
      "Epoch 1/5\n",
      "1500/1500 [==============================] - 6s 4ms/step - loss: 0.7282 - accuracy: 0.7704 - val_loss: 0.5428 - val_accuracy: 0.8181\n",
      "Epoch 2/5\n",
      "1500/1500 [==============================] - 38s 25ms/step - loss: 0.5102 - accuracy: 0.8299 - val_loss: 0.4887 - val_accuracy: 0.8316\n",
      "Epoch 3/5\n",
      "1500/1500 [==============================] - 7s 5ms/step - loss: 0.4657 - accuracy: 0.8416 - val_loss: 0.4591 - val_accuracy: 0.8409\n",
      "Epoch 4/5\n",
      "1500/1500 [==============================] - 5s 3ms/step - loss: 0.4385 - accuracy: 0.8500 - val_loss: 0.4418 - val_accuracy: 0.8465\n",
      "Epoch 5/5\n",
      "1500/1500 [==============================] - 5s 3ms/step - loss: 0.4205 - accuracy: 0.8559 - val_loss: 0.4245 - val_accuracy: 0.8530\n",
      "313/313 [==============================] - 1s 2ms/step - loss: 0.4470 - accuracy: 0.8435\n"
     ]
    }
   ],
   "source": [
    "# Это была первая модель - самая простая. Попробуем ту-же топологию, но с разным количеством параметров\n",
    "results = []\n",
    "for units in [32, 64, 128, 256, 512, 1024]:\n",
    "    model = Sequential()\n",
    "    model.add(Dense(units=units, activation='relu', input_shape=(28*28, )))\n",
    "    model.add(Dense(units=10, activation='softmax'))\n",
    "    model.compile(loss='categorical_crossentropy',\n",
    "                  optimizer='sgd',\n",
    "                  metrics=['accuracy'])\n",
    "    model.fit(x_train, to_categorical(y_train), epochs=5, batch_size=32, validation_split=0.2)\n",
    "    results.append(model.evaluate(x_test, to_categorical(y_test)))"
   ]
  },
  {
   "cell_type": "code",
   "execution_count": 70,
   "metadata": {},
   "outputs": [
    {
     "data": {
      "text/plain": [
       "[[0.4738989770412445, 0.8328999876976013],\n",
       " [0.4915260374546051, 0.8259999752044678],\n",
       " [0.46793627738952637, 0.8374999761581421],\n",
       " [0.4574931561946869, 0.8395000100135803],\n",
       " [0.44765058159828186, 0.8427000045776367],\n",
       " [0.4470403790473938, 0.843500018119812]]"
      ]
     },
     "execution_count": 70,
     "metadata": {},
     "output_type": "execute_result"
    }
   ],
   "source": [
    "results"
   ]
  },
  {
   "cell_type": "code",
   "execution_count": 71,
   "metadata": {},
   "outputs": [],
   "source": [
    "res = np.array(results)"
   ]
  },
  {
   "cell_type": "code",
   "execution_count": 72,
   "metadata": {},
   "outputs": [],
   "source": [
    "res[:, 0] = [32, 64, 128, 256, 512, 1024]"
   ]
  },
  {
   "cell_type": "code",
   "execution_count": 73,
   "metadata": {},
   "outputs": [
    {
     "data": {
      "text/plain": [
       "[<matplotlib.lines.Line2D at 0x7fa6802a9d30>]"
      ]
     },
     "execution_count": 73,
     "metadata": {},
     "output_type": "execute_result"
    },
    {
     "data": {
      "image/png": "[encoded data removed]",
      "text/plain": [
       "<Figure size 432x288 with 1 Axes>"
      ]
     },
     "metadata": {
      "needs_background": "light"
     },
     "output_type": "display_data"
    }
   ],
   "source": [
    "# Зависимость accuracy от количества нейронов в нашем единственном (он-же входной) слое\n",
    "plt.plot(res[:, 0], res[:, 1])"
   ]
  },
  {
   "cell_type": "code",
   "execution_count": 74,
   "metadata": {},
   "outputs": [],
   "source": [
    "# Пока-что выходит чем больше - тем лучше ))"
   ]
  },
  {
   "cell_type": "code",
   "execution_count": 76,
   "metadata": {},
   "outputs": [
    {
     "name": "stdout",
     "output_type": "stream",
     "text": [
      "Epoch 1/5\n",
      "1500/1500 [==============================] - 3s 2ms/step - loss: 0.7508 - accuracy: 0.7642 - val_loss: 0.5539 - val_accuracy: 0.8162\n",
      "Epoch 2/5\n",
      "1500/1500 [==============================] - 3s 2ms/step - loss: 0.5162 - accuracy: 0.8270 - val_loss: 0.4992 - val_accuracy: 0.8241\n",
      "Epoch 3/5\n",
      "1500/1500 [==============================] - 3s 2ms/step - loss: 0.4692 - accuracy: 0.8416 - val_loss: 0.4682 - val_accuracy: 0.8349\n",
      "Epoch 4/5\n",
      "1500/1500 [==============================] - 3s 2ms/step - loss: 0.4426 - accuracy: 0.8495 - val_loss: 0.4474 - val_accuracy: 0.8431\n",
      "Epoch 5/5\n",
      "1500/1500 [==============================] - 3s 2ms/step - loss: 0.4243 - accuracy: 0.8550 - val_loss: 0.4224 - val_accuracy: 0.8540\n",
      "313/313 [==============================] - 0s 1ms/step - loss: 0.4455 - accuracy: 0.8448\n",
      "Epoch 1/5\n",
      "1500/1500 [==============================] - 4s 3ms/step - loss: 0.7303 - accuracy: 0.7628 - val_loss: 0.5217 - val_accuracy: 0.8205\n",
      "Epoch 2/5\n",
      "1500/1500 [==============================] - 4s 2ms/step - loss: 0.4913 - accuracy: 0.8311 - val_loss: 0.4613 - val_accuracy: 0.8394\n",
      "Epoch 3/5\n",
      "1500/1500 [==============================] - 3s 2ms/step - loss: 0.4465 - accuracy: 0.8433 - val_loss: 0.4575 - val_accuracy: 0.8397\n",
      "Epoch 4/5\n",
      "1500/1500 [==============================] - 4s 3ms/step - loss: 0.4193 - accuracy: 0.8534 - val_loss: 0.4307 - val_accuracy: 0.8462\n",
      "Epoch 5/5\n",
      "1500/1500 [==============================] - 3s 2ms/step - loss: 0.3983 - accuracy: 0.8604 - val_loss: 0.4378 - val_accuracy: 0.8490\n",
      "313/313 [==============================] - 0s 1ms/step - loss: 0.4636 - accuracy: 0.8398\n",
      "Epoch 1/5\n",
      "1500/1500 [==============================] - 3s 2ms/step - loss: 0.7536 - accuracy: 0.7479 - val_loss: 0.5452 - val_accuracy: 0.8134\n",
      "Epoch 2/5\n",
      "1500/1500 [==============================] - 3s 2ms/step - loss: 0.4863 - accuracy: 0.8294 - val_loss: 0.4631 - val_accuracy: 0.8348\n",
      "Epoch 3/5\n",
      "1500/1500 [==============================] - 3s 2ms/step - loss: 0.4348 - accuracy: 0.8473 - val_loss: 0.4433 - val_accuracy: 0.8459\n",
      "Epoch 4/5\n",
      "1500/1500 [==============================] - 4s 3ms/step - loss: 0.4045 - accuracy: 0.8567 - val_loss: 0.4190 - val_accuracy: 0.8537\n",
      "Epoch 5/5\n",
      "1500/1500 [==============================] - 3s 2ms/step - loss: 0.3813 - accuracy: 0.8644 - val_loss: 0.3913 - val_accuracy: 0.8622\n",
      "313/313 [==============================] - 0s 2ms/step - loss: 0.4157 - accuracy: 0.8526\n",
      "Epoch 1/5\n",
      "1500/1500 [==============================] - 3s 2ms/step - loss: 0.8654 - accuracy: 0.7055 - val_loss: 0.5528 - val_accuracy: 0.8133\n",
      "Epoch 2/5\n",
      "1500/1500 [==============================] - 4s 2ms/step - loss: 0.5002 - accuracy: 0.8236 - val_loss: 0.4679 - val_accuracy: 0.8342\n",
      "Epoch 3/5\n",
      "1500/1500 [==============================] - 3s 2ms/step - loss: 0.4406 - accuracy: 0.8442 - val_loss: 0.4319 - val_accuracy: 0.8428\n",
      "Epoch 4/5\n",
      "1500/1500 [==============================] - 3s 2ms/step - loss: 0.4052 - accuracy: 0.8543 - val_loss: 0.4015 - val_accuracy: 0.8583\n",
      "Epoch 5/5\n",
      "1500/1500 [==============================] - 4s 3ms/step - loss: 0.3791 - accuracy: 0.8655 - val_loss: 0.3800 - val_accuracy: 0.8660\n",
      "313/313 [==============================] - 1s 2ms/step - loss: 0.4045 - accuracy: 0.8542\n",
      "Epoch 1/5\n",
      "1500/1500 [==============================] - 4s 3ms/step - loss: 0.8548 - accuracy: 0.6971 - val_loss: 0.5706 - val_accuracy: 0.8013\n",
      "Epoch 2/5\n",
      "1500/1500 [==============================] - 4s 2ms/step - loss: 0.4992 - accuracy: 0.8239 - val_loss: 0.4695 - val_accuracy: 0.8340\n",
      "Epoch 3/5\n",
      "1500/1500 [==============================] - 4s 2ms/step - loss: 0.4417 - accuracy: 0.8446 - val_loss: 0.4288 - val_accuracy: 0.8485\n",
      "Epoch 4/5\n",
      "1500/1500 [==============================] - 4s 2ms/step - loss: 0.4036 - accuracy: 0.8552 - val_loss: 0.4177 - val_accuracy: 0.8542\n",
      "Epoch 5/5\n",
      "1500/1500 [==============================] - 4s 2ms/step - loss: 0.3775 - accuracy: 0.8648 - val_loss: 0.3914 - val_accuracy: 0.8588\n",
      "313/313 [==============================] - 0s 2ms/step - loss: 0.4154 - accuracy: 0.8516\n",
      "Epoch 1/5\n",
      "1500/1500 [==============================] - 3s 2ms/step - loss: 0.9374 - accuracy: 0.6647 - val_loss: 0.6976 - val_accuracy: 0.7356\n",
      "Epoch 2/5\n",
      "1500/1500 [==============================] - 4s 2ms/step - loss: 0.5124 - accuracy: 0.8175 - val_loss: 0.4733 - val_accuracy: 0.8327\n",
      "Epoch 3/5\n",
      "1500/1500 [==============================] - 3s 2ms/step - loss: 0.4415 - accuracy: 0.8421 - val_loss: 0.4225 - val_accuracy: 0.8486\n",
      "Epoch 4/5\n",
      "1500/1500 [==============================] - 3s 2ms/step - loss: 0.3996 - accuracy: 0.8556 - val_loss: 0.3955 - val_accuracy: 0.8568\n",
      "Epoch 5/5\n",
      "1500/1500 [==============================] - 4s 2ms/step - loss: 0.3717 - accuracy: 0.8643 - val_loss: 0.3940 - val_accuracy: 0.8539\n",
      "313/313 [==============================] - 0s 2ms/step - loss: 0.4246 - accuracy: 0.8465\n"
     ]
    }
   ],
   "source": [
    "# Попробуем увеличить количество слоев\n",
    "results = []\n",
    "for layers in [0, 1, 2, 3, 4, 5]:\n",
    "    model = Sequential()\n",
    "    model.add(Dense(units=512, activation='relu', input_shape=(28*28, )))\n",
    "    for layer in range(layers):\n",
    "        model.add(Dense(units=64, activation='relu'))\n",
    "    model.add(Dense(units=10, activation='softmax'))\n",
    "    model.compile(loss='categorical_crossentropy',\n",
    "                  optimizer='sgd',\n",
    "                  metrics=['accuracy'])\n",
    "    model.fit(x_train, to_categorical(y_train), epochs=5, batch_size=32, validation_split=0.2)\n",
    "    results.append(model.evaluate(x_test, to_categorical(y_test)))"
   ]
  },
  {
   "cell_type": "code",
   "execution_count": 80,
   "metadata": {},
   "outputs": [],
   "source": [
    "res = np.array(results)\n",
    "res[:, 0] = [0, 1, 2, 3, 4, 5]"
   ]
  },
  {
   "cell_type": "code",
   "execution_count": 81,
   "metadata": {},
   "outputs": [
    {
     "data": {
      "text/plain": [
       "[<matplotlib.lines.Line2D at 0x7fa60d31e070>]"
      ]
     },
     "execution_count": 81,
     "metadata": {},
     "output_type": "execute_result"
    },
    {
     "data": {
      "image/png": "[encoded data removed]",
      "text/plain": [
       "<Figure size 432x288 with 1 Axes>"
      ]
     },
     "metadata": {
      "needs_background": "light"
     },
     "output_type": "display_data"
    }
   ],
   "source": [
    "# Зависимость accuracy от количества скрытых слоев\n",
    "plt.plot(res[:, 0], res[:, 1])"
   ]
  },
  {
   "cell_type": "code",
   "execution_count": 82,
   "metadata": {},
   "outputs": [],
   "source": [
    "# Тут уже интереснее. 3 скрытых слоя наилучший результат"
   ]
  },
  {
   "cell_type": "code",
   "execution_count": 89,
   "metadata": {},
   "outputs": [
    {
     "name": "stdout",
     "output_type": "stream",
     "text": [
      "Epoch 1/50\n",
      "1500/1500 [==============================] - 3s 2ms/step - loss: 0.8115 - accuracy: 0.7205 - val_loss: 0.5366 - val_accuracy: 0.8126\n",
      "Epoch 2/50\n",
      "1500/1500 [==============================] - 3s 2ms/step - loss: 0.4958 - accuracy: 0.8248 - val_loss: 0.5034 - val_accuracy: 0.8196\n",
      "Epoch 3/50\n",
      "1500/1500 [==============================] - 3s 2ms/step - loss: 0.4381 - accuracy: 0.8454 - val_loss: 0.4378 - val_accuracy: 0.8486\n",
      "Epoch 4/50\n",
      "1500/1500 [==============================] - 3s 2ms/step - loss: 0.4010 - accuracy: 0.8569 - val_loss: 0.3995 - val_accuracy: 0.8560\n",
      "Epoch 5/50\n",
      "1500/1500 [==============================] - 3s 2ms/step - loss: 0.3775 - accuracy: 0.8651 - val_loss: 0.3825 - val_accuracy: 0.8661\n",
      "Epoch 6/50\n",
      "1500/1500 [==============================] - 3s 2ms/step - loss: 0.3584 - accuracy: 0.8716 - val_loss: 0.3809 - val_accuracy: 0.8644\n",
      "Epoch 7/50\n",
      "1500/1500 [==============================] - 3s 2ms/step - loss: 0.3422 - accuracy: 0.8764 - val_loss: 0.3569 - val_accuracy: 0.8726\n",
      "Epoch 8/50\n",
      "1500/1500 [==============================] - 3s 2ms/step - loss: 0.3301 - accuracy: 0.8804 - val_loss: 0.3779 - val_accuracy: 0.8591\n",
      "Epoch 9/50\n",
      "1500/1500 [==============================] - 3s 2ms/step - loss: 0.3181 - accuracy: 0.8826 - val_loss: 0.3401 - val_accuracy: 0.8775\n",
      "Epoch 10/50\n",
      "1500/1500 [==============================] - 3s 2ms/step - loss: 0.3053 - accuracy: 0.8886 - val_loss: 0.3578 - val_accuracy: 0.8707\n",
      "Epoch 11/50\n",
      "1500/1500 [==============================] - 3s 2ms/step - loss: 0.2968 - accuracy: 0.8916 - val_loss: 0.3310 - val_accuracy: 0.8796\n",
      "Epoch 12/50\n",
      "1500/1500 [==============================] - 3s 2ms/step - loss: 0.2868 - accuracy: 0.8948 - val_loss: 0.3380 - val_accuracy: 0.8777\n",
      "Epoch 13/50\n",
      "1500/1500 [==============================] - 4s 2ms/step - loss: 0.2793 - accuracy: 0.8976 - val_loss: 0.3318 - val_accuracy: 0.8796\n",
      "Epoch 14/50\n",
      "1500/1500 [==============================] - 3s 2ms/step - loss: 0.2700 - accuracy: 0.9017 - val_loss: 0.3191 - val_accuracy: 0.8832\n",
      "Epoch 15/50\n",
      "1500/1500 [==============================] - 3s 2ms/step - loss: 0.2614 - accuracy: 0.9037 - val_loss: 0.3274 - val_accuracy: 0.8832\n",
      "Epoch 16/50\n",
      "1500/1500 [==============================] - 3s 2ms/step - loss: 0.2538 - accuracy: 0.9078 - val_loss: 0.3333 - val_accuracy: 0.8807\n",
      "Epoch 17/50\n",
      "1500/1500 [==============================] - 3s 2ms/step - loss: 0.2481 - accuracy: 0.9080 - val_loss: 0.3527 - val_accuracy: 0.8753\n",
      "Epoch 18/50\n",
      "1500/1500 [==============================] - 3s 2ms/step - loss: 0.2400 - accuracy: 0.9118 - val_loss: 0.3208 - val_accuracy: 0.8865\n",
      "Epoch 19/50\n",
      "1500/1500 [==============================] - 3s 2ms/step - loss: 0.2338 - accuracy: 0.9135 - val_loss: 0.3070 - val_accuracy: 0.8916\n",
      "Epoch 20/50\n",
      "1500/1500 [==============================] - 3s 2ms/step - loss: 0.2277 - accuracy: 0.9154 - val_loss: 0.3210 - val_accuracy: 0.8882\n",
      "Epoch 21/50\n",
      "1500/1500 [==============================] - 3s 2ms/step - loss: 0.2217 - accuracy: 0.9183 - val_loss: 0.3090 - val_accuracy: 0.8903\n",
      "Epoch 22/50\n",
      "1500/1500 [==============================] - 3s 2ms/step - loss: 0.2144 - accuracy: 0.9215 - val_loss: 0.3191 - val_accuracy: 0.8878\n",
      "Epoch 23/50\n",
      "1500/1500 [==============================] - 3s 2ms/step - loss: 0.2121 - accuracy: 0.9220 - val_loss: 0.3217 - val_accuracy: 0.8867\n",
      "Epoch 24/50\n",
      "1500/1500 [==============================] - 3s 2ms/step - loss: 0.2053 - accuracy: 0.9251 - val_loss: 0.3176 - val_accuracy: 0.8863\n",
      "Epoch 25/50\n",
      "1500/1500 [==============================] - 3s 2ms/step - loss: 0.1996 - accuracy: 0.9262 - val_loss: 0.3140 - val_accuracy: 0.8927\n",
      "Epoch 26/50\n",
      "1500/1500 [==============================] - 3s 2ms/step - loss: 0.1931 - accuracy: 0.9295 - val_loss: 0.3456 - val_accuracy: 0.8786\n",
      "Epoch 27/50\n",
      "1500/1500 [==============================] - 3s 2ms/step - loss: 0.1889 - accuracy: 0.9313 - val_loss: 0.3148 - val_accuracy: 0.8895\n",
      "Epoch 28/50\n",
      "1500/1500 [==============================] - 3s 2ms/step - loss: 0.1844 - accuracy: 0.9321 - val_loss: 0.3652 - val_accuracy: 0.8813\n",
      "Epoch 29/50\n",
      "1500/1500 [==============================] - 3s 2ms/step - loss: 0.1808 - accuracy: 0.9333 - val_loss: 0.3148 - val_accuracy: 0.8909\n",
      "Epoch 30/50\n",
      "1500/1500 [==============================] - 3s 2ms/step - loss: 0.1744 - accuracy: 0.9353 - val_loss: 0.3280 - val_accuracy: 0.8892\n",
      "Epoch 31/50\n",
      "1500/1500 [==============================] - 3s 2ms/step - loss: 0.1723 - accuracy: 0.9365 - val_loss: 0.3319 - val_accuracy: 0.8892\n",
      "Epoch 32/50\n",
      "1500/1500 [==============================] - 3s 2ms/step - loss: 0.1648 - accuracy: 0.9392 - val_loss: 0.3283 - val_accuracy: 0.8921\n",
      "Epoch 33/50\n",
      "1500/1500 [==============================] - 3s 2ms/step - loss: 0.1611 - accuracy: 0.9396 - val_loss: 0.3458 - val_accuracy: 0.8873\n",
      "Epoch 34/50\n",
      "1500/1500 [==============================] - 3s 2ms/step - loss: 0.1592 - accuracy: 0.9415 - val_loss: 0.3559 - val_accuracy: 0.8852\n",
      "Epoch 35/50\n",
      "1500/1500 [==============================] - 3s 2ms/step - loss: 0.1539 - accuracy: 0.9426 - val_loss: 0.3404 - val_accuracy: 0.8869\n",
      "Epoch 36/50\n",
      "1500/1500 [==============================] - 3s 2ms/step - loss: 0.1493 - accuracy: 0.9438 - val_loss: 0.3434 - val_accuracy: 0.8888\n",
      "Epoch 37/50\n",
      "1500/1500 [==============================] - 3s 2ms/step - loss: 0.1476 - accuracy: 0.9448 - val_loss: 0.3349 - val_accuracy: 0.8900\n",
      "Epoch 38/50\n",
      "1500/1500 [==============================] - 3s 2ms/step - loss: 0.1411 - accuracy: 0.9482 - val_loss: 0.3610 - val_accuracy: 0.8875\n",
      "Epoch 39/50\n",
      "1500/1500 [==============================] - 3s 2ms/step - loss: 0.1397 - accuracy: 0.9475 - val_loss: 0.3565 - val_accuracy: 0.8878\n",
      "Epoch 40/50\n",
      "1500/1500 [==============================] - 4s 3ms/step - loss: 0.1338 - accuracy: 0.9506 - val_loss: 0.3666 - val_accuracy: 0.8883\n",
      "Epoch 41/50\n",
      "1500/1500 [==============================] - 3s 2ms/step - loss: 0.1300 - accuracy: 0.9526 - val_loss: 0.3520 - val_accuracy: 0.8912\n",
      "Epoch 42/50\n",
      "1500/1500 [==============================] - 3s 2ms/step - loss: 0.1280 - accuracy: 0.9529 - val_loss: 0.3589 - val_accuracy: 0.8893\n",
      "Epoch 43/50\n",
      "1500/1500 [==============================] - 4s 3ms/step - loss: 0.1236 - accuracy: 0.9550 - val_loss: 0.3545 - val_accuracy: 0.8899\n",
      "Epoch 44/50\n",
      "1500/1500 [==============================] - 5s 3ms/step - loss: 0.1211 - accuracy: 0.9550 - val_loss: 0.3981 - val_accuracy: 0.8809\n",
      "Epoch 45/50\n",
      "1500/1500 [==============================] - 5s 3ms/step - loss: 0.1200 - accuracy: 0.9550 - val_loss: 0.3762 - val_accuracy: 0.8898\n",
      "Epoch 46/50\n",
      "1500/1500 [==============================] - 3s 2ms/step - loss: 0.1154 - accuracy: 0.9575 - val_loss: 0.3767 - val_accuracy: 0.8883\n",
      "Epoch 47/50\n",
      "1500/1500 [==============================] - 3s 2ms/step - loss: 0.1132 - accuracy: 0.9577 - val_loss: 0.3742 - val_accuracy: 0.8916\n",
      "Epoch 48/50\n",
      "1500/1500 [==============================] - 4s 2ms/step - loss: 0.1096 - accuracy: 0.9592 - val_loss: 0.3965 - val_accuracy: 0.8856\n",
      "Epoch 49/50\n",
      "1500/1500 [==============================] - 3s 2ms/step - loss: 0.1061 - accuracy: 0.9608 - val_loss: 0.3787 - val_accuracy: 0.8900\n",
      "Epoch 50/50\n",
      "1500/1500 [==============================] - 4s 2ms/step - loss: 0.1024 - accuracy: 0.9616 - val_loss: 0.3845 - val_accuracy: 0.8867\n"
     ]
    }
   ],
   "source": [
    "# Зависимость от количества эпох\n",
    "model = Sequential()\n",
    "model.add(Dense(units=512, activation='relu', input_shape=(28*28, )))\n",
    "for layer in range(3):\n",
    "    model.add(Dense(units=64, activation='relu'))\n",
    "model.add(Dense(units=10, activation='softmax'))\n",
    "model.compile(loss='categorical_crossentropy',\n",
    "              optimizer='sgd',\n",
    "              metrics=['accuracy'])\n",
    "hh = model.fit(x_train, to_categorical(y_train), epochs=50, batch_size=32, validation_split=0.2)"
   ]
  },
  {
   "cell_type": "code",
   "execution_count": 90,
   "metadata": {},
   "outputs": [
    {
     "data": {
      "text/plain": [
       "{'loss': [0.8114560842514038,\n",
       "  0.49575141072273254,\n",
       "  0.4381198287010193,\n",
       "  0.4009966552257538,\n",
       "  0.37745311856269836,\n",
       "  0.3584229648113251,\n",
       "  0.3422306180000305,\n",
       "  0.33012616634368896,\n",
       "  0.3181227743625641,\n",
       "  0.305269330739975,\n",
       "  0.29675641655921936,\n",
       "  0.2868412137031555,\n",
       "  0.27932843565940857,\n",
       "  0.2699536383152008,\n",
       "  0.26141357421875,\n",
       "  0.2538449764251709,\n",
       "  0.2480587363243103,\n",
       "  0.24003836512565613,\n",
       "  0.23384229838848114,\n",
       "  0.2276853770017624,\n",
       "  0.22173477709293365,\n",
       "  0.21443448960781097,\n",
       "  0.2121080905199051,\n",
       "  0.20533078908920288,\n",
       "  0.19960813224315643,\n",
       "  0.1930762678384781,\n",
       "  0.18889544904232025,\n",
       "  0.1844394952058792,\n",
       "  0.180802121758461,\n",
       "  0.1744181513786316,\n",
       "  0.1722891479730606,\n",
       "  0.16481128334999084,\n",
       "  0.16105282306671143,\n",
       "  0.15915636718273163,\n",
       "  0.15388275682926178,\n",
       "  0.1492518037557602,\n",
       "  0.1476379930973053,\n",
       "  0.14108632504940033,\n",
       "  0.13970018923282623,\n",
       "  0.13382494449615479,\n",
       "  0.12999948859214783,\n",
       "  0.127999946475029,\n",
       "  0.12356232851743698,\n",
       "  0.12110044062137604,\n",
       "  0.11997436732053757,\n",
       "  0.11537710577249527,\n",
       "  0.11315172165632248,\n",
       "  0.10964278131723404,\n",
       "  0.10605070739984512,\n",
       "  0.10239706188440323],\n",
       " 'accuracy': [0.7205208539962769,\n",
       "  0.8247708082199097,\n",
       "  0.8454375267028809,\n",
       "  0.8569166660308838,\n",
       "  0.8650833368301392,\n",
       "  0.8716250061988831,\n",
       "  0.8763541579246521,\n",
       "  0.8804166913032532,\n",
       "  0.8825833201408386,\n",
       "  0.8886458277702332,\n",
       "  0.8915833234786987,\n",
       "  0.8948125243186951,\n",
       "  0.8976041674613953,\n",
       "  0.901729166507721,\n",
       "  0.9037291407585144,\n",
       "  0.9078124761581421,\n",
       "  0.9079999923706055,\n",
       "  0.9118333458900452,\n",
       "  0.9135000109672546,\n",
       "  0.9153541922569275,\n",
       "  0.9182916879653931,\n",
       "  0.921500027179718,\n",
       "  0.921999990940094,\n",
       "  0.925125002861023,\n",
       "  0.9262083172798157,\n",
       "  0.92947918176651,\n",
       "  0.9313333630561829,\n",
       "  0.9320625066757202,\n",
       "  0.9333333373069763,\n",
       "  0.9353333115577698,\n",
       "  0.9364583492279053,\n",
       "  0.9391666650772095,\n",
       "  0.9395833611488342,\n",
       "  0.9415416717529297,\n",
       "  0.9426249861717224,\n",
       "  0.9438333511352539,\n",
       "  0.9447916746139526,\n",
       "  0.9482499957084656,\n",
       "  0.9474999904632568,\n",
       "  0.9506458044052124,\n",
       "  0.9526249766349792,\n",
       "  0.9528958201408386,\n",
       "  0.9549791812896729,\n",
       "  0.9549583196640015,\n",
       "  0.9550208449363708,\n",
       "  0.9575416445732117,\n",
       "  0.957687497138977,\n",
       "  0.9592291712760925,\n",
       "  0.9608333110809326,\n",
       "  0.9616249799728394],\n",
       " 'val_loss': [0.5366299748420715,\n",
       "  0.5034089088439941,\n",
       "  0.4377637207508087,\n",
       "  0.39949414134025574,\n",
       "  0.38253921270370483,\n",
       "  0.38093864917755127,\n",
       "  0.3569110631942749,\n",
       "  0.37789416313171387,\n",
       "  0.3400687873363495,\n",
       "  0.35783952474594116,\n",
       "  0.3309917449951172,\n",
       "  0.33797991275787354,\n",
       "  0.33181431889533997,\n",
       "  0.3191426396369934,\n",
       "  0.3273683190345764,\n",
       "  0.33329981565475464,\n",
       "  0.3527010977268219,\n",
       "  0.32075902819633484,\n",
       "  0.30702611804008484,\n",
       "  0.32097581028938293,\n",
       "  0.30902615189552307,\n",
       "  0.3190709054470062,\n",
       "  0.32171866297721863,\n",
       "  0.3176189959049225,\n",
       "  0.3140266537666321,\n",
       "  0.3456442058086395,\n",
       "  0.3147502839565277,\n",
       "  0.3652154803276062,\n",
       "  0.3147762715816498,\n",
       "  0.32800260186195374,\n",
       "  0.3318958878517151,\n",
       "  0.3283325731754303,\n",
       "  0.3458096981048584,\n",
       "  0.3559342920780182,\n",
       "  0.3403812050819397,\n",
       "  0.34336376190185547,\n",
       "  0.3348877429962158,\n",
       "  0.3610110282897949,\n",
       "  0.35649508237838745,\n",
       "  0.3666002154350281,\n",
       "  0.3520268201828003,\n",
       "  0.35885167121887207,\n",
       "  0.3544503450393677,\n",
       "  0.3981218934059143,\n",
       "  0.37624987959861755,\n",
       "  0.3767028748989105,\n",
       "  0.3741586208343506,\n",
       "  0.396497517824173,\n",
       "  0.3787461221218109,\n",
       "  0.3845222294330597],\n",
       " 'val_accuracy': [0.812583327293396,\n",
       "  0.8195833563804626,\n",
       "  0.8485833406448364,\n",
       "  0.8560000061988831,\n",
       "  0.8660833239555359,\n",
       "  0.8644166588783264,\n",
       "  0.8725833296775818,\n",
       "  0.859083354473114,\n",
       "  0.8774999976158142,\n",
       "  0.8706666827201843,\n",
       "  0.8795833587646484,\n",
       "  0.8776666522026062,\n",
       "  0.8795833587646484,\n",
       "  0.8831666707992554,\n",
       "  0.8832499980926514,\n",
       "  0.8806666731834412,\n",
       "  0.875333309173584,\n",
       "  0.8865000009536743,\n",
       "  0.8915833234786987,\n",
       "  0.8881666660308838,\n",
       "  0.890250027179718,\n",
       "  0.8877500295639038,\n",
       "  0.8867499828338623,\n",
       "  0.8862500190734863,\n",
       "  0.8926666378974915,\n",
       "  0.8785833120346069,\n",
       "  0.8895000219345093,\n",
       "  0.8813333511352539,\n",
       "  0.890916645526886,\n",
       "  0.8892499804496765,\n",
       "  0.8892499804496765,\n",
       "  0.8920833468437195,\n",
       "  0.8872500061988831,\n",
       "  0.8851666450500488,\n",
       "  0.8869166374206543,\n",
       "  0.8887500166893005,\n",
       "  0.8899999856948853,\n",
       "  0.887499988079071,\n",
       "  0.8877500295639038,\n",
       "  0.8883333206176758,\n",
       "  0.8911666870117188,\n",
       "  0.8893333077430725,\n",
       "  0.8899166584014893,\n",
       "  0.8809166550636292,\n",
       "  0.8897500038146973,\n",
       "  0.8883333206176758,\n",
       "  0.8915833234786987,\n",
       "  0.8855833411216736,\n",
       "  0.8899999856948853,\n",
       "  0.8867499828338623]}"
      ]
     },
     "execution_count": 90,
     "metadata": {},
     "output_type": "execute_result"
    }
   ],
   "source": [
    "hh.history"
   ]
  },
  {
   "cell_type": "code",
   "execution_count": 96,
   "metadata": {},
   "outputs": [
    {
     "data": {
      "image/png": "[encoded data removed]",
      "text/plain": [
       "<Figure size 1296x504 with 1 Axes>"
      ]
     },
     "metadata": {
      "needs_background": "light"
     },
     "output_type": "display_data"
    }
   ],
   "source": [
    "plt.figure(figsize=(18,7))\n",
    "plt.plot(range(50), hh.history['accuracy'])\n",
    "plt.plot(range(50), hh.history['val_accuracy'])\n",
    "plt.xlabel('epochs')\n",
    "plt.ylabel('accuracy')\n",
    "plt.legend(('train', 'test'))\n",
    "plt.draw()"
   ]
  },
  {
   "cell_type": "code",
   "execution_count": 97,
   "metadata": {},
   "outputs": [],
   "source": [
    "# На тесте растет до бесконечности - спасибо переобучению\n",
    "# На трейне все не так радужно - после 15-20 эпох особо не растет"
   ]
  },
  {
   "cell_type": "code",
   "execution_count": 98,
   "metadata": {},
   "outputs": [],
   "source": [
    "# Еще кстати была мысль не просто нормализовать входные данные а сделать их zero-centered\n",
    "(zx_train, zy_train), (zx_test, zy_test) = tf.keras.datasets.fashion_mnist.load_data()\n",
    "zx_train = zx_train/128 - 0.5\n",
    "zx_test = zx_test/128 - 0.5\n",
    "zx_train = x_train.reshape((-1, 28*28))\n",
    "zx_test = x_test.reshape((-1, 28*28))"
   ]
  },
  {
   "cell_type": "code",
   "execution_count": 99,
   "metadata": {},
   "outputs": [
    {
     "name": "stdout",
     "output_type": "stream",
     "text": [
      "Epoch 1/50\n",
      "1500/1500 [==============================] - 3s 2ms/step - loss: 0.8759 - accuracy: 0.7003 - val_loss: 0.5468 - val_accuracy: 0.8083\n",
      "Epoch 2/50\n",
      "1500/1500 [==============================] - 3s 2ms/step - loss: 0.4916 - accuracy: 0.8271 - val_loss: 0.4657 - val_accuracy: 0.8403\n",
      "Epoch 3/50\n",
      "1500/1500 [==============================] - 3s 2ms/step - loss: 0.4352 - accuracy: 0.8460 - val_loss: 0.4297 - val_accuracy: 0.8487\n",
      "Epoch 4/50\n",
      "1500/1500 [==============================] - 3s 2ms/step - loss: 0.4030 - accuracy: 0.8555 - val_loss: 0.4156 - val_accuracy: 0.8519\n",
      "Epoch 5/50\n",
      "1500/1500 [==============================] - 3s 2ms/step - loss: 0.3791 - accuracy: 0.8644 - val_loss: 0.4116 - val_accuracy: 0.8537\n",
      "Epoch 6/50\n",
      "1500/1500 [==============================] - 3s 2ms/step - loss: 0.3615 - accuracy: 0.8707 - val_loss: 0.3849 - val_accuracy: 0.8621\n",
      "Epoch 7/50\n",
      "1500/1500 [==============================] - 3s 2ms/step - loss: 0.3444 - accuracy: 0.8750 - val_loss: 0.3895 - val_accuracy: 0.8583\n",
      "Epoch 8/50\n",
      "1500/1500 [==============================] - 3s 2ms/step - loss: 0.3317 - accuracy: 0.8808 - val_loss: 0.3591 - val_accuracy: 0.8709\n",
      "Epoch 9/50\n",
      "1500/1500 [==============================] - 3s 2ms/step - loss: 0.3196 - accuracy: 0.8832 - val_loss: 0.3712 - val_accuracy: 0.8624\n",
      "Epoch 10/50\n",
      "1500/1500 [==============================] - 3s 2ms/step - loss: 0.3079 - accuracy: 0.8884 - val_loss: 0.3501 - val_accuracy: 0.8724\n",
      "Epoch 11/50\n",
      "1500/1500 [==============================] - 3s 2ms/step - loss: 0.2983 - accuracy: 0.8901 - val_loss: 0.3668 - val_accuracy: 0.8675\n",
      "Epoch 12/50\n",
      "1500/1500 [==============================] - 3s 2ms/step - loss: 0.2883 - accuracy: 0.8945 - val_loss: 0.3352 - val_accuracy: 0.8810\n",
      "Epoch 13/50\n",
      "1500/1500 [==============================] - 3s 2ms/step - loss: 0.2807 - accuracy: 0.8962 - val_loss: 0.3321 - val_accuracy: 0.8777\n",
      "Epoch 14/50\n",
      "1500/1500 [==============================] - 3s 2ms/step - loss: 0.2711 - accuracy: 0.8992 - val_loss: 0.3260 - val_accuracy: 0.8841\n",
      "Epoch 15/50\n",
      "1500/1500 [==============================] - 3s 2ms/step - loss: 0.2640 - accuracy: 0.9032 - val_loss: 0.3467 - val_accuracy: 0.8772\n",
      "Epoch 16/50\n",
      "1500/1500 [==============================] - 3s 2ms/step - loss: 0.2578 - accuracy: 0.9058 - val_loss: 0.3345 - val_accuracy: 0.8788\n",
      "Epoch 17/50\n",
      "1500/1500 [==============================] - 3s 2ms/step - loss: 0.2488 - accuracy: 0.9078 - val_loss: 0.3279 - val_accuracy: 0.8827\n",
      "Epoch 18/50\n",
      "1500/1500 [==============================] - 3s 2ms/step - loss: 0.2431 - accuracy: 0.9105 - val_loss: 0.3198 - val_accuracy: 0.8880\n",
      "Epoch 19/50\n",
      "1500/1500 [==============================] - 3s 2ms/step - loss: 0.2354 - accuracy: 0.9139 - val_loss: 0.3209 - val_accuracy: 0.8848\n",
      "Epoch 20/50\n",
      "1500/1500 [==============================] - 3s 2ms/step - loss: 0.2310 - accuracy: 0.9147 - val_loss: 0.3317 - val_accuracy: 0.8829\n",
      "Epoch 21/50\n",
      "1500/1500 [==============================] - 3s 2ms/step - loss: 0.2241 - accuracy: 0.9170 - val_loss: 0.3182 - val_accuracy: 0.8878\n",
      "Epoch 22/50\n",
      "1500/1500 [==============================] - 3s 2ms/step - loss: 0.2176 - accuracy: 0.9208 - val_loss: 0.3329 - val_accuracy: 0.8833\n",
      "Epoch 23/50\n",
      "1500/1500 [==============================] - 3s 2ms/step - loss: 0.2121 - accuracy: 0.9223 - val_loss: 0.3170 - val_accuracy: 0.8880\n",
      "Epoch 24/50\n",
      "1500/1500 [==============================] - 3s 2ms/step - loss: 0.2069 - accuracy: 0.9238 - val_loss: 0.3166 - val_accuracy: 0.8892\n",
      "Epoch 25/50\n",
      "1500/1500 [==============================] - 3s 2ms/step - loss: 0.2018 - accuracy: 0.9249 - val_loss: 0.3293 - val_accuracy: 0.8835\n",
      "Epoch 26/50\n",
      "1500/1500 [==============================] - 3s 2ms/step - loss: 0.1957 - accuracy: 0.9275 - val_loss: 0.3248 - val_accuracy: 0.8884\n",
      "Epoch 27/50\n",
      "1500/1500 [==============================] - 3s 2ms/step - loss: 0.1911 - accuracy: 0.9297 - val_loss: 0.3263 - val_accuracy: 0.8874\n",
      "Epoch 28/50\n",
      "1500/1500 [==============================] - 3s 2ms/step - loss: 0.1873 - accuracy: 0.9311 - val_loss: 0.3115 - val_accuracy: 0.8937\n",
      "Epoch 29/50\n",
      "1500/1500 [==============================] - 3s 2ms/step - loss: 0.1831 - accuracy: 0.9330 - val_loss: 0.3282 - val_accuracy: 0.8901\n",
      "Epoch 30/50\n",
      "1500/1500 [==============================] - 3s 2ms/step - loss: 0.1767 - accuracy: 0.9338 - val_loss: 0.3289 - val_accuracy: 0.8882\n",
      "Epoch 31/50\n",
      "1500/1500 [==============================] - 3s 2ms/step - loss: 0.1731 - accuracy: 0.9366 - val_loss: 0.3301 - val_accuracy: 0.8852\n",
      "Epoch 32/50\n",
      "1500/1500 [==============================] - 3s 2ms/step - loss: 0.1668 - accuracy: 0.9388 - val_loss: 0.3345 - val_accuracy: 0.8878\n",
      "Epoch 33/50\n",
      "1500/1500 [==============================] - 3s 2ms/step - loss: 0.1631 - accuracy: 0.9403 - val_loss: 0.3491 - val_accuracy: 0.8860\n",
      "Epoch 34/50\n",
      "1500/1500 [==============================] - 3s 2ms/step - loss: 0.1598 - accuracy: 0.9419 - val_loss: 0.3505 - val_accuracy: 0.8874\n",
      "Epoch 35/50\n",
      "1500/1500 [==============================] - 3s 2ms/step - loss: 0.1569 - accuracy: 0.9428 - val_loss: 0.3433 - val_accuracy: 0.8915\n",
      "Epoch 36/50\n",
      "1500/1500 [==============================] - 3s 2ms/step - loss: 0.1515 - accuracy: 0.9442 - val_loss: 0.3438 - val_accuracy: 0.8867\n",
      "Epoch 37/50\n",
      "1500/1500 [==============================] - 4s 2ms/step - loss: 0.1467 - accuracy: 0.9456 - val_loss: 0.3358 - val_accuracy: 0.8912\n",
      "Epoch 38/50\n",
      "1500/1500 [==============================] - 3s 2ms/step - loss: 0.1439 - accuracy: 0.9467 - val_loss: 0.3449 - val_accuracy: 0.8877\n",
      "Epoch 39/50\n",
      "1500/1500 [==============================] - 3s 2ms/step - loss: 0.1393 - accuracy: 0.9482 - val_loss: 0.3519 - val_accuracy: 0.8842\n",
      "Epoch 40/50\n",
      "1500/1500 [==============================] - 3s 2ms/step - loss: 0.1373 - accuracy: 0.9495 - val_loss: 0.3425 - val_accuracy: 0.8928\n",
      "Epoch 41/50\n",
      "1500/1500 [==============================] - 3s 2ms/step - loss: 0.1336 - accuracy: 0.9509 - val_loss: 0.3440 - val_accuracy: 0.8877\n",
      "Epoch 42/50\n",
      "1500/1500 [==============================] - 3s 2ms/step - loss: 0.1312 - accuracy: 0.9510 - val_loss: 0.3801 - val_accuracy: 0.8840\n",
      "Epoch 43/50\n",
      "1500/1500 [==============================] - 3s 2ms/step - loss: 0.1259 - accuracy: 0.9530 - val_loss: 0.3869 - val_accuracy: 0.8863\n",
      "Epoch 44/50\n",
      "1500/1500 [==============================] - 3s 2ms/step - loss: 0.1236 - accuracy: 0.9545 - val_loss: 0.3569 - val_accuracy: 0.8905\n",
      "Epoch 45/50\n",
      "1500/1500 [==============================] - 3s 2ms/step - loss: 0.1226 - accuracy: 0.9555 - val_loss: 0.3764 - val_accuracy: 0.8851\n",
      "Epoch 46/50\n",
      "1500/1500 [==============================] - 3s 2ms/step - loss: 0.1181 - accuracy: 0.9575 - val_loss: 0.3715 - val_accuracy: 0.8886\n",
      "Epoch 47/50\n",
      "1500/1500 [==============================] - 3s 2ms/step - loss: 0.1146 - accuracy: 0.9576 - val_loss: 0.3931 - val_accuracy: 0.8854\n",
      "Epoch 48/50\n",
      "1500/1500 [==============================] - 3s 2ms/step - loss: 0.1116 - accuracy: 0.9595 - val_loss: 0.3833 - val_accuracy: 0.8896\n",
      "Epoch 49/50\n",
      "1500/1500 [==============================] - 3s 2ms/step - loss: 0.1101 - accuracy: 0.9594 - val_loss: 0.3796 - val_accuracy: 0.8893\n",
      "Epoch 50/50\n",
      "1500/1500 [==============================] - 3s 2ms/step - loss: 0.1064 - accuracy: 0.9610 - val_loss: 0.3859 - val_accuracy: 0.8911\n"
     ]
    }
   ],
   "source": [
    "# Зависимость от количества эпох с центрированными данными\n",
    "model = Sequential()\n",
    "model.add(Dense(units=512, activation='relu', input_shape=(28*28, )))\n",
    "for layer in range(3):\n",
    "    model.add(Dense(units=64, activation='relu'))\n",
    "model.add(Dense(units=10, activation='softmax'))\n",
    "model.compile(loss='categorical_crossentropy',\n",
    "              optimizer='sgd',\n",
    "              metrics=['accuracy'])\n",
    "zhh = model.fit(zx_train, to_categorical(zy_train), epochs=50, batch_size=32, validation_split=0.2)"
   ]
  },
  {
   "cell_type": "code",
   "execution_count": 100,
   "metadata": {},
   "outputs": [
    {
     "data": {
      "image/png": "[encoded data removed]",
      "text/plain": [
       "<Figure size 1296x504 with 1 Axes>"
      ]
     },
     "metadata": {
      "needs_background": "light"
     },
     "output_type": "display_data"
    }
   ],
   "source": [
    "plt.figure(figsize=(18,7))\n",
    "plt.plot(range(50), hh.history['accuracy'])\n",
    "plt.plot(range(50), hh.history['val_accuracy'])\n",
    "plt.plot(range(50), zhh.history['accuracy'])\n",
    "plt.plot(range(50), zhh.history['val_accuracy'])\n",
    "plt.xlabel('epochs')\n",
    "plt.ylabel('accuracy')\n",
    "plt.legend(('train', 'test', 'zero_train', 'zero_test'))\n",
    "plt.draw()"
   ]
  },
  {
   "cell_type": "code",
   "execution_count": 101,
   "metadata": {},
   "outputs": [],
   "source": [
    "# Никакой значимой разницы"
   ]
  },
  {
   "cell_type": "code",
   "execution_count": 102,
   "metadata": {},
   "outputs": [
    {
     "name": "stdout",
     "output_type": "stream",
     "text": [
      "Epoch 1/50\n",
      "1500/1500 [==============================] - 4s 3ms/step - loss: 0.5102 - accuracy: 0.8168 - val_loss: 0.4440 - val_accuracy: 0.8385\n",
      "Epoch 2/50\n",
      "1500/1500 [==============================] - 4s 2ms/step - loss: 0.4081 - accuracy: 0.8507 - val_loss: 0.3954 - val_accuracy: 0.8569\n",
      "Epoch 3/50\n",
      "1500/1500 [==============================] - 4s 3ms/step - loss: 0.3756 - accuracy: 0.8625 - val_loss: 0.3760 - val_accuracy: 0.8637\n",
      "Epoch 4/50\n",
      "1500/1500 [==============================] - 4s 3ms/step - loss: 0.3597 - accuracy: 0.8683 - val_loss: 0.3711 - val_accuracy: 0.8665\n",
      "Epoch 5/50\n",
      "1500/1500 [==============================] - 4s 3ms/step - loss: 0.3449 - accuracy: 0.8741 - val_loss: 0.3591 - val_accuracy: 0.8698\n",
      "Epoch 6/50\n",
      "1500/1500 [==============================] - 5s 3ms/step - loss: 0.3276 - accuracy: 0.8786 - val_loss: 0.3504 - val_accuracy: 0.8745\n",
      "Epoch 7/50\n",
      "1500/1500 [==============================] - 4s 3ms/step - loss: 0.3229 - accuracy: 0.8811 - val_loss: 0.3571 - val_accuracy: 0.8687\n",
      "Epoch 8/50\n",
      "1500/1500 [==============================] - 4s 3ms/step - loss: 0.3163 - accuracy: 0.8827 - val_loss: 0.3825 - val_accuracy: 0.8643\n",
      "Epoch 9/50\n",
      "1500/1500 [==============================] - 7s 4ms/step - loss: 0.3090 - accuracy: 0.8859 - val_loss: 0.3545 - val_accuracy: 0.8745\n",
      "Epoch 10/50\n",
      "1500/1500 [==============================] - 4s 3ms/step - loss: 0.3035 - accuracy: 0.8886 - val_loss: 0.3739 - val_accuracy: 0.8645\n",
      "Epoch 11/50\n",
      "1500/1500 [==============================] - 4s 3ms/step - loss: 0.2995 - accuracy: 0.8880 - val_loss: 0.3641 - val_accuracy: 0.8689\n",
      "Epoch 12/50\n",
      "1500/1500 [==============================] - 4s 3ms/step - loss: 0.2935 - accuracy: 0.8909 - val_loss: 0.3557 - val_accuracy: 0.8763\n",
      "Epoch 13/50\n",
      "1500/1500 [==============================] - 4s 3ms/step - loss: 0.2922 - accuracy: 0.8920 - val_loss: 0.3411 - val_accuracy: 0.8803\n",
      "Epoch 14/50\n",
      "1500/1500 [==============================] - 4s 3ms/step - loss: 0.2896 - accuracy: 0.8920 - val_loss: 0.3341 - val_accuracy: 0.8789\n",
      "Epoch 15/50\n",
      "1500/1500 [==============================] - 4s 3ms/step - loss: 0.2853 - accuracy: 0.8944 - val_loss: 0.3527 - val_accuracy: 0.8807\n",
      "Epoch 16/50\n",
      "1500/1500 [==============================] - 5s 3ms/step - loss: 0.2781 - accuracy: 0.8977 - val_loss: 0.3561 - val_accuracy: 0.8746\n",
      "Epoch 17/50\n",
      "1500/1500 [==============================] - 4s 3ms/step - loss: 0.2797 - accuracy: 0.8959 - val_loss: 0.3386 - val_accuracy: 0.8817\n",
      "Epoch 18/50\n",
      "1500/1500 [==============================] - 4s 3ms/step - loss: 0.2728 - accuracy: 0.8993 - val_loss: 0.3636 - val_accuracy: 0.8723\n",
      "Epoch 19/50\n",
      "1500/1500 [==============================] - 4s 3ms/step - loss: 0.2744 - accuracy: 0.8981 - val_loss: 0.3531 - val_accuracy: 0.8742\n",
      "Epoch 20/50\n",
      "1500/1500 [==============================] - 4s 3ms/step - loss: 0.2713 - accuracy: 0.8992 - val_loss: 0.3527 - val_accuracy: 0.8809\n",
      "Epoch 21/50\n",
      "1500/1500 [==============================] - 4s 3ms/step - loss: 0.2691 - accuracy: 0.9004 - val_loss: 0.3421 - val_accuracy: 0.8820\n",
      "Epoch 22/50\n",
      "1500/1500 [==============================] - 4s 3ms/step - loss: 0.2655 - accuracy: 0.9015 - val_loss: 0.3402 - val_accuracy: 0.8790\n",
      "Epoch 23/50\n",
      "1500/1500 [==============================] - 4s 3ms/step - loss: 0.2624 - accuracy: 0.9027 - val_loss: 0.3542 - val_accuracy: 0.8752\n",
      "Epoch 24/50\n",
      "1500/1500 [==============================] - 4s 2ms/step - loss: 0.2577 - accuracy: 0.9051 - val_loss: 0.3500 - val_accuracy: 0.8788\n",
      "Epoch 25/50\n",
      "1500/1500 [==============================] - 4s 2ms/step - loss: 0.2600 - accuracy: 0.9031 - val_loss: 0.3459 - val_accuracy: 0.8823\n",
      "Epoch 26/50\n",
      "1500/1500 [==============================] - 4s 3ms/step - loss: 0.2588 - accuracy: 0.9039 - val_loss: 0.3515 - val_accuracy: 0.8758\n",
      "Epoch 27/50\n",
      "1500/1500 [==============================] - 4s 3ms/step - loss: 0.2550 - accuracy: 0.9051 - val_loss: 0.3427 - val_accuracy: 0.8824\n",
      "Epoch 28/50\n",
      "1500/1500 [==============================] - 4s 2ms/step - loss: 0.2534 - accuracy: 0.9071 - val_loss: 0.3704 - val_accuracy: 0.8734\n",
      "Epoch 29/50\n",
      "1500/1500 [==============================] - 4s 2ms/step - loss: 0.2560 - accuracy: 0.9063 - val_loss: 0.3616 - val_accuracy: 0.8789\n",
      "Epoch 30/50\n",
      "1500/1500 [==============================] - 4s 2ms/step - loss: 0.2540 - accuracy: 0.9058 - val_loss: 0.3645 - val_accuracy: 0.8742\n",
      "Epoch 31/50\n",
      "1500/1500 [==============================] - 4s 2ms/step - loss: 0.2490 - accuracy: 0.9088 - val_loss: 0.3583 - val_accuracy: 0.8777\n",
      "Epoch 32/50\n",
      "1500/1500 [==============================] - 4s 2ms/step - loss: 0.2459 - accuracy: 0.9091 - val_loss: 0.3684 - val_accuracy: 0.8727\n",
      "Epoch 33/50\n",
      "1500/1500 [==============================] - 4s 2ms/step - loss: 0.2450 - accuracy: 0.9083 - val_loss: 0.3606 - val_accuracy: 0.8760\n",
      "Epoch 34/50\n",
      "1500/1500 [==============================] - 4s 2ms/step - loss: 0.2468 - accuracy: 0.9093 - val_loss: 0.3428 - val_accuracy: 0.8806\n",
      "Epoch 35/50\n",
      "1500/1500 [==============================] - 4s 2ms/step - loss: 0.2445 - accuracy: 0.9090 - val_loss: 0.3572 - val_accuracy: 0.8778\n",
      "Epoch 36/50\n",
      "1500/1500 [==============================] - 4s 2ms/step - loss: 0.2427 - accuracy: 0.9110 - val_loss: 0.3371 - val_accuracy: 0.8856\n",
      "Epoch 37/50\n",
      "1500/1500 [==============================] - 4s 2ms/step - loss: 0.2432 - accuracy: 0.9112 - val_loss: 0.3384 - val_accuracy: 0.8858\n",
      "Epoch 38/50\n",
      "1500/1500 [==============================] - 4s 3ms/step - loss: 0.2364 - accuracy: 0.9124 - val_loss: 0.3501 - val_accuracy: 0.8780\n",
      "Epoch 39/50\n",
      "1500/1500 [==============================] - 4s 3ms/step - loss: 0.2377 - accuracy: 0.9130 - val_loss: 0.3596 - val_accuracy: 0.8819\n",
      "Epoch 40/50\n",
      "1500/1500 [==============================] - 4s 2ms/step - loss: 0.2379 - accuracy: 0.9127 - val_loss: 0.3511 - val_accuracy: 0.8831\n",
      "Epoch 41/50\n",
      "1500/1500 [==============================] - 4s 3ms/step - loss: 0.2383 - accuracy: 0.9122 - val_loss: 0.3589 - val_accuracy: 0.8806\n",
      "Epoch 42/50\n",
      "1500/1500 [==============================] - 4s 3ms/step - loss: 0.2379 - accuracy: 0.9127 - val_loss: 0.3722 - val_accuracy: 0.8796\n",
      "Epoch 43/50\n",
      "1500/1500 [==============================] - 4s 3ms/step - loss: 0.2354 - accuracy: 0.9127 - val_loss: 0.3621 - val_accuracy: 0.8789\n",
      "Epoch 44/50\n",
      "1500/1500 [==============================] - 5s 3ms/step - loss: 0.2300 - accuracy: 0.9149 - val_loss: 0.3525 - val_accuracy: 0.8844\n",
      "Epoch 45/50\n",
      "1500/1500 [==============================] - 4s 2ms/step - loss: 0.2382 - accuracy: 0.9131 - val_loss: 0.3496 - val_accuracy: 0.8828\n",
      "Epoch 46/50\n",
      "1500/1500 [==============================] - 5s 3ms/step - loss: 0.2308 - accuracy: 0.9155 - val_loss: 0.3595 - val_accuracy: 0.8814\n",
      "Epoch 47/50\n",
      "1500/1500 [==============================] - 4s 3ms/step - loss: 0.2349 - accuracy: 0.9130 - val_loss: 0.3661 - val_accuracy: 0.8748\n",
      "Epoch 48/50\n",
      "1500/1500 [==============================] - 4s 2ms/step - loss: 0.2278 - accuracy: 0.9147 - val_loss: 0.3595 - val_accuracy: 0.8812\n",
      "Epoch 49/50\n",
      "1500/1500 [==============================] - 4s 2ms/step - loss: 0.2253 - accuracy: 0.9160 - val_loss: 0.3642 - val_accuracy: 0.8817\n",
      "Epoch 50/50\n",
      "1500/1500 [==============================] - 4s 3ms/step - loss: 0.2267 - accuracy: 0.9151 - val_loss: 0.3796 - val_accuracy: 0.8747\n"
     ]
    }
   ],
   "source": [
    "# Попробую разные активационные функции..\n",
    "model = Sequential()\n",
    "model.add(Dense(units=512, activation='tanh', input_shape=(28*28, )))\n",
    "for layer in range(3):\n",
    "    model.add(Dense(units=64, activation='tanh'))\n",
    "model.add(Dense(units=10, activation='softmax'))\n",
    "model.compile(loss='categorical_crossentropy',\n",
    "              optimizer='adam',\n",
    "              metrics=['accuracy'])\n",
    "thh = model.fit(x_train, to_categorical(y_train), epochs=50, batch_size=32, validation_split=0.2)"
   ]
  },
  {
   "cell_type": "code",
   "execution_count": 104,
   "metadata": {},
   "outputs": [
    {
     "data": {
      "image/png": "[encoded data removed]",
      "text/plain": [
       "<Figure size 1296x504 with 1 Axes>"
      ]
     },
     "metadata": {
      "needs_background": "light"
     },
     "output_type": "display_data"
    }
   ],
   "source": [
    "plt.figure(figsize=(18,7))\n",
    "plt.plot(range(50), hh.history['accuracy'])\n",
    "plt.plot(range(50), hh.history['val_accuracy'])\n",
    "plt.plot(range(50), thh.history['accuracy'])\n",
    "plt.plot(range(50), thh.history['val_accuracy'])\n",
    "plt.xlabel('epochs')\n",
    "plt.ylabel('accuracy')\n",
    "plt.legend(('relu_train', 'relu_test', 'tanh_train', 'tanh_test'))\n",
    "plt.draw()"
   ]
  },
  {
   "cell_type": "code",
   "execution_count": 105,
   "metadata": {},
   "outputs": [],
   "source": [
    "# Так гораздо ниже переобучение на трейне - но скор на тесте получается сравнимым - ну может чуть ниже."
   ]
  },
  {
   "cell_type": "code",
   "execution_count": 106,
   "metadata": {},
   "outputs": [
    {
     "name": "stdout",
     "output_type": "stream",
     "text": [
      "Epoch 1/50\n",
      "1500/1500 [==============================] - 4s 3ms/step - loss: 0.7803 - accuracy: 0.7463 - val_loss: 0.4425 - val_accuracy: 0.8482\n",
      "Epoch 2/50\n",
      "1500/1500 [==============================] - 4s 2ms/step - loss: 0.3984 - accuracy: 0.8603 - val_loss: 0.4069 - val_accuracy: 0.8559\n",
      "Epoch 3/50\n",
      "1500/1500 [==============================] - 4s 2ms/step - loss: 0.3445 - accuracy: 0.8765 - val_loss: 0.3824 - val_accuracy: 0.8637\n",
      "Epoch 4/50\n",
      "1500/1500 [==============================] - 5s 3ms/step - loss: 0.3138 - accuracy: 0.8854 - val_loss: 0.3352 - val_accuracy: 0.8782\n",
      "Epoch 5/50\n",
      "1500/1500 [==============================] - 4s 3ms/step - loss: 0.2933 - accuracy: 0.8921 - val_loss: 0.3357 - val_accuracy: 0.8798\n",
      "Epoch 6/50\n",
      "1500/1500 [==============================] - 4s 3ms/step - loss: 0.2769 - accuracy: 0.8996 - val_loss: 0.3389 - val_accuracy: 0.8795\n",
      "Epoch 7/50\n",
      "1500/1500 [==============================] - 4s 2ms/step - loss: 0.2643 - accuracy: 0.9039 - val_loss: 0.3301 - val_accuracy: 0.8787\n",
      "Epoch 8/50\n",
      "1500/1500 [==============================] - 4s 3ms/step - loss: 0.2511 - accuracy: 0.9069 - val_loss: 0.3158 - val_accuracy: 0.8867\n",
      "Epoch 9/50\n",
      "1500/1500 [==============================] - 4s 3ms/step - loss: 0.2412 - accuracy: 0.9099 - val_loss: 0.3205 - val_accuracy: 0.8874\n",
      "Epoch 10/50\n",
      "1500/1500 [==============================] - 4s 3ms/step - loss: 0.2330 - accuracy: 0.9131 - val_loss: 0.3110 - val_accuracy: 0.8913\n",
      "Epoch 11/50\n",
      "1500/1500 [==============================] - 4s 3ms/step - loss: 0.2215 - accuracy: 0.9183 - val_loss: 0.3179 - val_accuracy: 0.8858\n",
      "Epoch 12/50\n",
      "1500/1500 [==============================] - 4s 3ms/step - loss: 0.2166 - accuracy: 0.9190 - val_loss: 0.3217 - val_accuracy: 0.8888\n",
      "Epoch 13/50\n",
      "1500/1500 [==============================] - 4s 3ms/step - loss: 0.2082 - accuracy: 0.9228 - val_loss: 0.3211 - val_accuracy: 0.8914\n",
      "Epoch 14/50\n",
      "1500/1500 [==============================] - 4s 3ms/step - loss: 0.1985 - accuracy: 0.9268 - val_loss: 0.3103 - val_accuracy: 0.8948\n",
      "Epoch 15/50\n",
      "1500/1500 [==============================] - 4s 3ms/step - loss: 0.1923 - accuracy: 0.9294 - val_loss: 0.3433 - val_accuracy: 0.8872\n",
      "Epoch 16/50\n",
      "1500/1500 [==============================] - 5s 3ms/step - loss: 0.1861 - accuracy: 0.9314 - val_loss: 0.3262 - val_accuracy: 0.8913\n",
      "Epoch 17/50\n",
      "1500/1500 [==============================] - 5s 3ms/step - loss: 0.1802 - accuracy: 0.9339 - val_loss: 0.3264 - val_accuracy: 0.8952\n",
      "Epoch 18/50\n",
      "1500/1500 [==============================] - 4s 3ms/step - loss: 0.1730 - accuracy: 0.9364 - val_loss: 0.3282 - val_accuracy: 0.8932\n",
      "Epoch 19/50\n",
      "1500/1500 [==============================] - 5s 3ms/step - loss: 0.1690 - accuracy: 0.9377 - val_loss: 0.3398 - val_accuracy: 0.8932\n",
      "Epoch 20/50\n",
      "1500/1500 [==============================] - 4s 3ms/step - loss: 0.1617 - accuracy: 0.9404 - val_loss: 0.3532 - val_accuracy: 0.8888\n",
      "Epoch 21/50\n",
      "1500/1500 [==============================] - 4s 3ms/step - loss: 0.1599 - accuracy: 0.9421 - val_loss: 0.3527 - val_accuracy: 0.8923\n",
      "Epoch 22/50\n",
      "1500/1500 [==============================] - 5s 4ms/step - loss: 0.1530 - accuracy: 0.9436 - val_loss: 0.3511 - val_accuracy: 0.8938\n",
      "Epoch 23/50\n",
      "1500/1500 [==============================] - 5s 3ms/step - loss: 0.1494 - accuracy: 0.9450 - val_loss: 0.3436 - val_accuracy: 0.8928\n",
      "Epoch 24/50\n",
      "1500/1500 [==============================] - 6s 4ms/step - loss: 0.1470 - accuracy: 0.9451 - val_loss: 0.3556 - val_accuracy: 0.8943\n",
      "Epoch 25/50\n",
      "1500/1500 [==============================] - 4s 3ms/step - loss: 0.1441 - accuracy: 0.9467 - val_loss: 0.3530 - val_accuracy: 0.8953\n",
      "Epoch 26/50\n",
      "1500/1500 [==============================] - 4s 3ms/step - loss: 0.1383 - accuracy: 0.9492 - val_loss: 0.3785 - val_accuracy: 0.8883\n",
      "Epoch 27/50\n",
      "1500/1500 [==============================] - 4s 3ms/step - loss: 0.1343 - accuracy: 0.9511 - val_loss: 0.4276 - val_accuracy: 0.8814\n",
      "Epoch 28/50\n",
      "1500/1500 [==============================] - 4s 3ms/step - loss: 0.1281 - accuracy: 0.9535 - val_loss: 0.3689 - val_accuracy: 0.8938\n",
      "Epoch 29/50\n",
      "1500/1500 [==============================] - 4s 3ms/step - loss: 0.1273 - accuracy: 0.9518 - val_loss: 0.3740 - val_accuracy: 0.8944\n",
      "Epoch 30/50\n",
      "1500/1500 [==============================] - 4s 3ms/step - loss: 0.1244 - accuracy: 0.9545 - val_loss: 0.3583 - val_accuracy: 0.9005\n",
      "Epoch 31/50\n",
      "1500/1500 [==============================] - 4s 3ms/step - loss: 0.1210 - accuracy: 0.9557 - val_loss: 0.3784 - val_accuracy: 0.8973\n",
      "Epoch 32/50\n",
      "1500/1500 [==============================] - 4s 3ms/step - loss: 0.1173 - accuracy: 0.9571 - val_loss: 0.3786 - val_accuracy: 0.8908\n",
      "Epoch 33/50\n",
      "1500/1500 [==============================] - 5s 3ms/step - loss: 0.1157 - accuracy: 0.9577 - val_loss: 0.3820 - val_accuracy: 0.8941\n",
      "Epoch 34/50\n",
      "1500/1500 [==============================] - 4s 3ms/step - loss: 0.1127 - accuracy: 0.9591 - val_loss: 0.3805 - val_accuracy: 0.8946\n",
      "Epoch 35/50\n",
      "1500/1500 [==============================] - 5s 3ms/step - loss: 0.1093 - accuracy: 0.9601 - val_loss: 0.3920 - val_accuracy: 0.8943\n",
      "Epoch 36/50\n",
      "1500/1500 [==============================] - 5s 3ms/step - loss: 0.1070 - accuracy: 0.9602 - val_loss: 0.3949 - val_accuracy: 0.8936\n",
      "Epoch 37/50\n",
      "1500/1500 [==============================] - 4s 3ms/step - loss: 0.1053 - accuracy: 0.9613 - val_loss: 0.3910 - val_accuracy: 0.8953\n",
      "Epoch 38/50\n",
      "1500/1500 [==============================] - 4s 3ms/step - loss: 0.1030 - accuracy: 0.9624 - val_loss: 0.3975 - val_accuracy: 0.8950\n",
      "Epoch 39/50\n",
      "1500/1500 [==============================] - 4s 3ms/step - loss: 0.1019 - accuracy: 0.9625 - val_loss: 0.4073 - val_accuracy: 0.8911\n",
      "Epoch 40/50\n",
      "1500/1500 [==============================] - 4s 3ms/step - loss: 0.0977 - accuracy: 0.9635 - val_loss: 0.4145 - val_accuracy: 0.8917\n",
      "Epoch 41/50\n",
      "1500/1500 [==============================] - 4s 3ms/step - loss: 0.0953 - accuracy: 0.9645 - val_loss: 0.4207 - val_accuracy: 0.8960\n",
      "Epoch 42/50\n",
      "1500/1500 [==============================] - 4s 3ms/step - loss: 0.0953 - accuracy: 0.9650 - val_loss: 0.4221 - val_accuracy: 0.8953\n",
      "Epoch 43/50\n",
      "1500/1500 [==============================] - 4s 3ms/step - loss: 0.0927 - accuracy: 0.9661 - val_loss: 0.4264 - val_accuracy: 0.8928\n",
      "Epoch 44/50\n",
      "1500/1500 [==============================] - 4s 3ms/step - loss: 0.0920 - accuracy: 0.9666 - val_loss: 0.4114 - val_accuracy: 0.8940\n",
      "Epoch 45/50\n",
      "1500/1500 [==============================] - 4s 3ms/step - loss: 0.0901 - accuracy: 0.9675 - val_loss: 0.4277 - val_accuracy: 0.8961\n",
      "Epoch 46/50\n",
      "1500/1500 [==============================] - 4s 3ms/step - loss: 0.0882 - accuracy: 0.9682 - val_loss: 0.4217 - val_accuracy: 0.8932\n",
      "Epoch 47/50\n",
      "1500/1500 [==============================] - 4s 3ms/step - loss: 0.0873 - accuracy: 0.9685 - val_loss: 0.4087 - val_accuracy: 0.8955\n",
      "Epoch 48/50\n",
      "1500/1500 [==============================] - 4s 3ms/step - loss: 0.0812 - accuracy: 0.9699 - val_loss: 0.4587 - val_accuracy: 0.8928\n",
      "Epoch 49/50\n",
      "1500/1500 [==============================] - 4s 3ms/step - loss: 0.0863 - accuracy: 0.9682 - val_loss: 0.4380 - val_accuracy: 0.8965\n",
      "Epoch 50/50\n",
      "1500/1500 [==============================] - 5s 3ms/step - loss: 0.0814 - accuracy: 0.9706 - val_loss: 0.4351 - val_accuracy: 0.8949\n"
     ]
    }
   ],
   "source": [
    "model = Sequential()\n",
    "model.add(Dense(units=512, activation='relu', input_shape=(28*28, )))\n",
    "for layer in range(3):\n",
    "    model.add(Dense(units=64, activation='sigmoid'))\n",
    "model.add(Dense(units=10, activation='softmax'))\n",
    "model.compile(loss='categorical_crossentropy',\n",
    "              optimizer='adam',\n",
    "              metrics=['accuracy'])\n",
    "shh = model.fit(x_train, to_categorical(y_train), epochs=50, batch_size=32, validation_split=0.2)"
   ]
  },
  {
   "cell_type": "code",
   "execution_count": 107,
   "metadata": {},
   "outputs": [
    {
     "data": {
      "image/png": "[encoded data removed]",
      "text/plain": [
       "<Figure size 1296x504 with 1 Axes>"
      ]
     },
     "metadata": {
      "needs_background": "light"
     },
     "output_type": "display_data"
    }
   ],
   "source": [
    "plt.figure(figsize=(18,7))\n",
    "plt.plot(range(50), hh.history['accuracy'])\n",
    "plt.plot(range(50), hh.history['val_accuracy'])\n",
    "plt.plot(range(50), shh.history['accuracy'])\n",
    "plt.plot(range(50), shh.history['val_accuracy'])\n",
    "plt.xlabel('epochs')\n",
    "plt.ylabel('accuracy')\n",
    "plt.legend(('relu_train', 'relu_test', 'sigmoid_train', 'sigmoid_test'))\n",
    "plt.draw()"
   ]
  },
  {
   "cell_type": "code",
   "execution_count": 109,
   "metadata": {},
   "outputs": [],
   "source": [
    "# C сигмоидом чууть-чуть получше (некритично) тест. И видимо быстрее происходит переобучение на трейне, чем с relu"
   ]
  },
  {
   "cell_type": "code",
   "execution_count": null,
   "metadata": {},
   "outputs": [],
   "source": []
  }
 ],
 "metadata": {
  "kernelspec": {
   "display_name": "Python 3",
   "language": "python",
   "name": "python3"
  },
  "language_info": {
   "codemirror_mode": {
    "name": "ipython",
    "version": 3
   },
   "file_extension": ".py",
   "mimetype": "text/x-python",
   "name": "python",
   "nbconvert_exporter": "python",
   "pygments_lexer": "ipython3",
   "version": "3.8.3"
  }
 },
 "nbformat": 4,
 "nbformat_minor": 4
}
